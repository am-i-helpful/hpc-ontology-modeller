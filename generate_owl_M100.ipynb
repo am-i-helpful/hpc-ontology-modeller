{
 "cells": [
  {
   "cell_type": "code",
   "execution_count": 1,
   "metadata": {
    "collapsed": true,
    "ExecuteTime": {
     "end_time": "2023-06-23T11:49:52.899098300Z",
     "start_time": "2023-06-23T11:49:41.794575300Z"
    }
   },
   "outputs": [
    {
     "name": "stdout",
     "output_type": "stream",
     "text": [
      "Requirement already satisfied: pandas in c:\\users\\am i helpful\\appdata\\local\\programs\\python\\python310\\lib\\site-packages (2.0.2)\n",
      "Requirement already satisfied: python-dateutil>=2.8.2 in y:\\python\\ontology_modeller\\venv\\lib\\site-packages (from pandas) (2.8.2)\n",
      "Requirement already satisfied: pytz>=2020.1 in c:\\users\\am i helpful\\appdata\\local\\programs\\python\\python310\\lib\\site-packages (from pandas) (2023.3)\n",
      "Requirement already satisfied: tzdata>=2022.1 in c:\\users\\am i helpful\\appdata\\local\\programs\\python\\python310\\lib\\site-packages (from pandas) (2023.3)\n",
      "Requirement already satisfied: numpy>=1.21.0 in c:\\users\\am i helpful\\appdata\\local\\programs\\python\\python310\\lib\\site-packages (from pandas) (1.24.3)\n",
      "Requirement already satisfied: six>=1.5 in y:\\python\\ontology_modeller\\venv\\lib\\site-packages (from python-dateutil>=2.8.2->pandas) (1.16.0)\n",
      "Requirement already satisfied: pyarrow in c:\\users\\am i helpful\\appdata\\local\\programs\\python\\python310\\lib\\site-packages (12.0.1)\n",
      "Requirement already satisfied: numpy>=1.16.6 in c:\\users\\am i helpful\\appdata\\local\\programs\\python\\python310\\lib\\site-packages (from pyarrow) (1.24.3)\n",
      "Requirement already satisfied: owlready2 in y:\\python\\ontology_modeller\\venv\\lib\\site-packages (0.43)\n",
      "Requirement already satisfied: requests in c:\\users\\am i helpful\\appdata\\local\\programs\\python\\python310\\lib\\site-packages (2.31.0)\n",
      "Requirement already satisfied: charset-normalizer<4,>=2 in c:\\users\\am i helpful\\appdata\\local\\programs\\python\\python310\\lib\\site-packages (from requests) (3.1.0)\n",
      "Requirement already satisfied: idna<4,>=2.5 in y:\\python\\ontology_modeller\\venv\\lib\\site-packages (from requests) (3.4)\n",
      "Requirement already satisfied: urllib3<3,>=1.21.1 in c:\\users\\am i helpful\\appdata\\local\\programs\\python\\python310\\lib\\site-packages (from requests) (2.0.3)\n",
      "Requirement already satisfied: certifi>=2017.4.17 in c:\\users\\am i helpful\\appdata\\local\\programs\\python\\python310\\lib\\site-packages (from requests) (2023.5.7)\n"
     ]
    }
   ],
   "source": [
    "!pip install pandas\n",
    "!pip install pyarrow\n",
    "!pip install owlready2\n",
    "!pip install requests"
   ]
  },
  {
   "cell_type": "code",
   "execution_count": 2,
   "outputs": [
    {
     "name": "stderr",
     "output_type": "stream",
     "text": [
      "* Owlready2 * Warning: optimized Cython parser module 'owlready2_optimized' is not available, defaulting to slower Python implementation\n"
     ]
    }
   ],
   "source": [
    "import pandas as pd\n",
    "import pyarrow.parquet as pq\n",
    "from owlready2 import *\n",
    "import urllib.parse\n",
    "# from datetime import datetime\n",
    "import glob"
   ],
   "metadata": {
    "collapsed": false,
    "ExecuteTime": {
     "end_time": "2023-06-29T14:05:11.197479300Z",
     "start_time": "2023-06-29T14:05:08.042892400Z"
    }
   }
  },
  {
   "cell_type": "code",
   "execution_count": 3,
   "outputs": [],
   "source": [
    "# number of rows to be considered from the parquet file, as all rows can't be considered because of the huge size of the HPC workload\n",
    "number_of_rows = 10\n",
    "# Source of the data - data extracted using hardware-based \"Intelligent Platform Management Interface\" (IPMI) module of the servers/nodes\n",
    "base_dir = \"Y:/Marconi100 20-04/year_month=20-04/plugin=ipmi_pub/metric=\""
   ],
   "metadata": {
    "collapsed": false,
    "ExecuteTime": {
     "end_time": "2023-06-29T14:05:13.083216400Z",
     "start_time": "2023-06-29T14:05:13.062124100Z"
    }
   }
  },
  {
   "cell_type": "code",
   "execution_count": 49,
   "outputs": [],
   "source": [
    "# natural sorting adopted from this Stack Overflow answer - https://stackoverflow.com/a/4836734/3482140\n",
    "def natural_sort(l):\n",
    "    convert = lambda text: int(text) if text.isdigit() else text.lower()\n",
    "    alphanum_key = lambda key: [convert(c) for c in re.split('([0-9]+)', key)]\n",
    "    return sorted(l, key=alphanum_key)"
   ],
   "metadata": {
    "collapsed": false,
    "ExecuteTime": {
     "end_time": "2023-06-29T17:38:09.229009Z",
     "start_time": "2023-06-29T17:38:08.968872500Z"
    }
   }
  },
  {
   "cell_type": "code",
   "execution_count": 21,
   "outputs": [
    {
     "data": {
      "text/plain": "                        timestamp      value node year_month    plugin  \\\n2247535 2020-04-03 22:55:20+00:00  21.600000    0      20-04  ipmi_pub   \n2249735 2020-04-04 12:27:20+00:00  23.000000    0      20-04  ipmi_pub   \n2249734 2020-04-04 12:27:00+00:00  23.000000    0      20-04  ipmi_pub   \n2249733 2020-04-04 12:26:40+00:00  23.000000    0      20-04  ipmi_pub   \n2249732 2020-04-04 12:26:20+00:00  23.000000    0      20-04  ipmi_pub   \n2249731 2020-04-04 12:26:00+00:00  23.200001    0      20-04  ipmi_pub   \n2249730 2020-04-04 12:25:40+00:00  23.200001    0      20-04  ipmi_pub   \n2249729 2020-04-04 12:25:20+00:00  23.200001    0      20-04  ipmi_pub   \n2249728 2020-04-04 12:25:00+00:00  23.200001    0      20-04  ipmi_pub   \n2249727 2020-04-04 12:24:20+00:00  23.200001    0      20-04  ipmi_pub   \n\n          metric  \n2247535  ambient  \n2249735  ambient  \n2249734  ambient  \n2249733  ambient  \n2249732  ambient  \n2249731  ambient  \n2249730  ambient  \n2249729  ambient  \n2249728  ambient  \n2249727  ambient  ",
      "text/html": "<div>\n<style scoped>\n    .dataframe tbody tr th:only-of-type {\n        vertical-align: middle;\n    }\n\n    .dataframe tbody tr th {\n        vertical-align: top;\n    }\n\n    .dataframe thead th {\n        text-align: right;\n    }\n</style>\n<table border=\"1\" class=\"dataframe\">\n  <thead>\n    <tr style=\"text-align: right;\">\n      <th></th>\n      <th>timestamp</th>\n      <th>value</th>\n      <th>node</th>\n      <th>year_month</th>\n      <th>plugin</th>\n      <th>metric</th>\n    </tr>\n  </thead>\n  <tbody>\n    <tr>\n      <th>2247535</th>\n      <td>2020-04-03 22:55:20+00:00</td>\n      <td>21.600000</td>\n      <td>0</td>\n      <td>20-04</td>\n      <td>ipmi_pub</td>\n      <td>ambient</td>\n    </tr>\n    <tr>\n      <th>2249735</th>\n      <td>2020-04-04 12:27:20+00:00</td>\n      <td>23.000000</td>\n      <td>0</td>\n      <td>20-04</td>\n      <td>ipmi_pub</td>\n      <td>ambient</td>\n    </tr>\n    <tr>\n      <th>2249734</th>\n      <td>2020-04-04 12:27:00+00:00</td>\n      <td>23.000000</td>\n      <td>0</td>\n      <td>20-04</td>\n      <td>ipmi_pub</td>\n      <td>ambient</td>\n    </tr>\n    <tr>\n      <th>2249733</th>\n      <td>2020-04-04 12:26:40+00:00</td>\n      <td>23.000000</td>\n      <td>0</td>\n      <td>20-04</td>\n      <td>ipmi_pub</td>\n      <td>ambient</td>\n    </tr>\n    <tr>\n      <th>2249732</th>\n      <td>2020-04-04 12:26:20+00:00</td>\n      <td>23.000000</td>\n      <td>0</td>\n      <td>20-04</td>\n      <td>ipmi_pub</td>\n      <td>ambient</td>\n    </tr>\n    <tr>\n      <th>2249731</th>\n      <td>2020-04-04 12:26:00+00:00</td>\n      <td>23.200001</td>\n      <td>0</td>\n      <td>20-04</td>\n      <td>ipmi_pub</td>\n      <td>ambient</td>\n    </tr>\n    <tr>\n      <th>2249730</th>\n      <td>2020-04-04 12:25:40+00:00</td>\n      <td>23.200001</td>\n      <td>0</td>\n      <td>20-04</td>\n      <td>ipmi_pub</td>\n      <td>ambient</td>\n    </tr>\n    <tr>\n      <th>2249729</th>\n      <td>2020-04-04 12:25:20+00:00</td>\n      <td>23.200001</td>\n      <td>0</td>\n      <td>20-04</td>\n      <td>ipmi_pub</td>\n      <td>ambient</td>\n    </tr>\n    <tr>\n      <th>2249728</th>\n      <td>2020-04-04 12:25:00+00:00</td>\n      <td>23.200001</td>\n      <td>0</td>\n      <td>20-04</td>\n      <td>ipmi_pub</td>\n      <td>ambient</td>\n    </tr>\n    <tr>\n      <th>2249727</th>\n      <td>2020-04-04 12:24:20+00:00</td>\n      <td>23.200001</td>\n      <td>0</td>\n      <td>20-04</td>\n      <td>ipmi_pub</td>\n      <td>ambient</td>\n    </tr>\n  </tbody>\n</table>\n</div>"
     },
     "execution_count": 21,
     "metadata": {},
     "output_type": "execute_result"
    }
   ],
   "source": [
    "dir_ambient = base_dir + \"ambient/\"\n",
    "file_ambient = glob.glob(dir_ambient + \"*\")\n",
    "df_ambient = pq.read_table(source=file_ambient).to_pandas()\n",
    "df_ambient = df_ambient.sort_values('node').head(number_of_rows)\n",
    "df_ambient"
   ],
   "metadata": {
    "collapsed": false,
    "ExecuteTime": {
     "end_time": "2023-06-29T15:10:20.264370300Z",
     "start_time": "2023-06-29T15:10:16.052300900Z"
    }
   }
  },
  {
   "cell_type": "code",
   "execution_count": 50,
   "outputs": [
    {
     "name": "stdout",
     "output_type": "stream",
     "text": [
      "Y:/Marconi100 20-04/year_month=20-04/plugin=ipmi_pub\\metric=dimm0_temp\\a_0.parquet\n",
      "Y:/Marconi100 20-04/year_month=20-04/plugin=ipmi_pub\\metric=dimm1_temp\\a_0.parquet\n",
      "Y:/Marconi100 20-04/year_month=20-04/plugin=ipmi_pub\\metric=dimm2_temp\\a_0.parquet\n",
      "Y:/Marconi100 20-04/year_month=20-04/plugin=ipmi_pub\\metric=dimm3_temp\\a_0.parquet\n",
      "Y:/Marconi100 20-04/year_month=20-04/plugin=ipmi_pub\\metric=dimm4_temp\\a_0.parquet\n",
      "Y:/Marconi100 20-04/year_month=20-04/plugin=ipmi_pub\\metric=dimm5_temp\\a_0.parquet\n",
      "Y:/Marconi100 20-04/year_month=20-04/plugin=ipmi_pub\\metric=dimm6_temp\\a_0.parquet\n",
      "Y:/Marconi100 20-04/year_month=20-04/plugin=ipmi_pub\\metric=dimm7_temp\\a_0.parquet\n",
      "Y:/Marconi100 20-04/year_month=20-04/plugin=ipmi_pub\\metric=dimm8_temp\\a_0.parquet\n",
      "Y:/Marconi100 20-04/year_month=20-04/plugin=ipmi_pub\\metric=dimm9_temp\\a_0.parquet\n",
      "Y:/Marconi100 20-04/year_month=20-04/plugin=ipmi_pub\\metric=dimm10_temp\\a_0.parquet\n",
      "Y:/Marconi100 20-04/year_month=20-04/plugin=ipmi_pub\\metric=dimm11_temp\\a_0.parquet\n",
      "Y:/Marconi100 20-04/year_month=20-04/plugin=ipmi_pub\\metric=dimm12_temp\\a_0.parquet\n",
      "Y:/Marconi100 20-04/year_month=20-04/plugin=ipmi_pub\\metric=dimm13_temp\\a_0.parquet\n",
      "Y:/Marconi100 20-04/year_month=20-04/plugin=ipmi_pub\\metric=dimm14_temp\\a_0.parquet\n",
      "Y:/Marconi100 20-04/year_month=20-04/plugin=ipmi_pub\\metric=dimm15_temp\\a_0.parquet\n"
     ]
    },
    {
     "data": {
      "text/plain": "[                        timestamp  value node\n 2631135 2020-04-03 22:16:00+00:00     32    0\n 2633604 2020-04-04 13:29:00+00:00     28    0\n 2633605 2020-04-04 13:29:20+00:00     28    0\n 2633606 2020-04-04 13:29:40+00:00     28    0\n 2633607 2020-04-04 13:30:00+00:00     28    0\n 2633608 2020-04-04 13:30:20+00:00     28    0\n 2633609 2020-04-04 13:30:40+00:00     28    0\n 2633610 2020-04-04 13:31:20+00:00     28    0\n 2633611 2020-04-04 13:31:40+00:00     28    0\n 234771  2020-04-03 21:59:40+00:00     32    0,\n                         timestamp  value node\n 3842798 2020-04-04 13:39:20+00:00     29    0\n 3840730 2020-04-04 00:55:20+00:00     30    0\n 3840729 2020-04-04 00:55:00+00:00     30    0\n 3840728 2020-04-04 00:54:20+00:00     30    0\n 3840727 2020-04-04 00:53:40+00:00     30    0\n 3840726 2020-04-04 00:53:20+00:00     30    0\n 3840725 2020-04-04 00:53:00+00:00     30    0\n 3840731 2020-04-04 00:55:40+00:00     30    0\n 3840724 2020-04-04 00:52:40+00:00     30    0\n 3840722 2020-04-04 00:52:00+00:00     30    0,\n                        timestamp  value node\n 905774 2020-04-03 23:04:40+00:00     29    0\n 907588 2020-04-04 10:14:40+00:00     33    0\n 907589 2020-04-04 10:15:00+00:00     32    0\n 907590 2020-04-04 10:15:20+00:00     32    0\n 907591 2020-04-04 10:15:40+00:00     32    0\n 907592 2020-04-04 10:16:00+00:00     32    0\n 907593 2020-04-04 10:16:20+00:00     33    0\n 907594 2020-04-04 10:16:40+00:00     32    0\n 907595 2020-04-04 10:17:00+00:00     32    0\n 907596 2020-04-04 10:17:20+00:00     32    0,\n                         timestamp  value node\n 1650891 2020-04-04 09:58:20+00:00     32    0\n 196529  2020-04-01 08:49:40+00:00     28    0\n 196528  2020-04-01 08:49:20+00:00     28    0\n 196527  2020-04-01 08:49:00+00:00     28    0\n 196526  2020-04-01 08:48:40+00:00     28    0\n 196525  2020-04-01 08:48:20+00:00     28    0\n 196524  2020-04-01 08:48:00+00:00     28    0\n 196530  2020-04-01 08:50:00+00:00     28    0\n 196523  2020-04-01 08:47:40+00:00     28    0\n 196521  2020-04-01 08:47:00+00:00     28    0,\n                       timestamp  value node\n 51173 2020-04-04 08:09:20+00:00     35    0\n 51029 2020-04-04 07:17:20+00:00     31    0\n 51028 2020-04-04 07:17:00+00:00     30    0\n 51027 2020-04-04 07:16:40+00:00     30    0\n 51026 2020-04-04 07:16:20+00:00     30    0\n 51025 2020-04-04 07:16:00+00:00     30    0\n 51024 2020-04-04 07:15:40+00:00     30    0\n 51030 2020-04-04 07:18:00+00:00     31    0\n 51023 2020-04-04 07:15:20+00:00     30    0\n 51021 2020-04-04 07:14:40+00:00     31    0,\n                         timestamp  value node\n 2474162 2020-04-04 11:44:00+00:00     29    0\n 2474185 2020-04-04 11:53:20+00:00     29    0\n 2474186 2020-04-04 11:53:40+00:00     29    0\n 2474187 2020-04-04 11:54:00+00:00     29    0\n 2474188 2020-04-04 11:54:20+00:00     29    0\n 2474189 2020-04-04 11:55:20+00:00     29    0\n 2474190 2020-04-04 11:55:40+00:00     30    0\n 2474191 2020-04-04 11:56:00+00:00     30    0\n 2474192 2020-04-04 11:56:20+00:00     30    0\n 2474193 2020-04-04 11:57:00+00:00     30    0,\n                         timestamp  value node\n 2005923 2020-04-04 03:54:20+00:00     29    0\n 2007889 2020-04-04 16:34:00+00:00     34    0\n 2007890 2020-04-04 16:34:20+00:00     34    0\n 2007891 2020-04-04 16:34:40+00:00     33    0\n 2007892 2020-04-04 16:35:00+00:00     32    0\n 2007893 2020-04-04 16:35:20+00:00     31    0\n 2007894 2020-04-04 16:36:00+00:00     30    0\n 2007895 2020-04-04 16:36:20+00:00     30    0\n 2007896 2020-04-04 16:36:40+00:00     30    0\n 2007897 2020-04-04 16:37:00+00:00     29    0,\n                         timestamp  value node\n 1099808 2020-04-04 16:32:40+00:00     36    0\n 59215   2020-04-01 08:14:40+00:00     28    0\n 59216   2020-04-01 08:15:00+00:00     28    0\n 59217   2020-04-01 08:15:20+00:00     28    0\n 59218   2020-04-01 08:15:40+00:00     28    0\n 59219   2020-04-01 08:16:00+00:00     28    0\n 59220   2020-04-01 08:16:20+00:00     28    0\n 59221   2020-04-01 08:16:40+00:00     28    0\n 59222   2020-04-01 08:17:00+00:00     28    0\n 59223   2020-04-01 08:17:20+00:00     28    0,\n                       timestamp  value node\n 39928 2020-04-04 05:00:00+00:00     29    0\n 38920 2020-04-03 22:53:00+00:00     29    0\n 38921 2020-04-03 22:53:40+00:00     29    0\n 38922 2020-04-03 22:54:00+00:00     29    0\n 38923 2020-04-03 22:54:20+00:00     29    0\n 38924 2020-04-03 22:54:40+00:00     29    0\n 38925 2020-04-03 22:55:00+00:00     29    0\n 38926 2020-04-03 22:55:20+00:00     29    0\n 38927 2020-04-03 22:55:40+00:00     29    0\n 38928 2020-04-03 22:56:00+00:00     29    0,\n                         timestamp  value node\n 2847021 2020-04-03 19:54:40+00:00     28    0\n 66949   2020-04-04 05:03:40+00:00     29    0\n 66948   2020-04-04 05:03:20+00:00     29    0\n 66947   2020-04-04 05:03:00+00:00     29    0\n 66946   2020-04-04 05:02:40+00:00     29    0\n 66945   2020-04-04 05:02:20+00:00     29    0\n 66944   2020-04-04 05:01:40+00:00     29    0\n 66943   2020-04-04 05:01:20+00:00     30    0\n 66942   2020-04-04 05:01:00+00:00     29    0\n 66941   2020-04-04 05:00:20+00:00     29    0,\n                        timestamp  value node\n 556187 2020-04-04 11:10:20+00:00     32    0\n 555469 2020-04-04 06:41:40+00:00     30    0\n 555468 2020-04-04 06:41:20+00:00     30    0\n 555467 2020-04-04 06:41:00+00:00     30    0\n 555466 2020-04-04 06:40:40+00:00     30    0\n 555465 2020-04-04 06:40:20+00:00     30    0\n 555464 2020-04-04 06:40:00+00:00     30    0\n 555463 2020-04-04 06:39:40+00:00     30    0\n 555462 2020-04-04 06:39:20+00:00     30    0\n 555461 2020-04-04 06:39:00+00:00     30    0,\n                         timestamp  value node\n 1843631 2020-04-01 08:53:40+00:00     28    0\n 21016   2020-04-04 06:19:40+00:00     29    0\n 21015   2020-04-04 06:19:20+00:00     29    0\n 21014   2020-04-04 06:19:00+00:00     29    0\n 21013   2020-04-04 06:18:20+00:00     29    0\n 21012   2020-04-04 06:18:00+00:00     29    0\n 21011   2020-04-04 06:17:40+00:00     29    0\n 21017   2020-04-04 06:20:00+00:00     29    0\n 21010   2020-04-04 06:17:20+00:00     29    0\n 21008   2020-04-04 06:16:40+00:00     29    0,\n                        timestamp  value node\n 559854 2020-04-03 20:00:00+00:00     30    0\n 559914 2020-04-03 20:22:00+00:00     29    0\n 559915 2020-04-03 20:22:20+00:00     29    0\n 559916 2020-04-03 20:22:40+00:00     29    0\n 559917 2020-04-03 20:23:00+00:00     29    0\n 559918 2020-04-03 20:23:20+00:00     29    0\n 559919 2020-04-03 20:23:40+00:00     29    0\n 559920 2020-04-03 20:24:00+00:00     29    0\n 559921 2020-04-03 20:24:20+00:00     29    0\n 559922 2020-04-03 20:24:40+00:00     29    0,\n                        timestamp  value node\n 783144 2020-04-04 07:47:40+00:00     37    0\n 156247 2020-04-03 17:29:00+00:00     33    0\n 156248 2020-04-03 17:29:40+00:00     33    0\n 156249 2020-04-03 17:30:00+00:00     33    0\n 156250 2020-04-03 17:30:20+00:00     33    0\n 156251 2020-04-03 17:30:40+00:00     33    0\n 156252 2020-04-03 17:31:00+00:00     33    0\n 156253 2020-04-03 17:31:40+00:00     33    0\n 156254 2020-04-03 17:32:00+00:00     33    0\n 156246 2020-04-03 17:28:40+00:00     33    0,\n                         timestamp  value node\n 1863993 2020-04-04 13:59:20+00:00     29    0\n 1863602 2020-04-04 11:29:00+00:00     30    0\n 1863603 2020-04-04 11:29:20+00:00     30    0\n 1863604 2020-04-04 11:29:40+00:00     30    0\n 1863605 2020-04-04 11:30:00+00:00     30    0\n 1863606 2020-04-04 11:30:20+00:00     30    0\n 1863607 2020-04-04 11:30:40+00:00     30    0\n 1863608 2020-04-04 11:31:00+00:00     30    0\n 1863609 2020-04-04 11:31:40+00:00     30    0\n 1863601 2020-04-04 11:28:40+00:00     30    0,\n                         timestamp  value node\n 1974422 2020-04-04 10:43:20+00:00     34    0\n 1973034 2020-04-04 02:08:40+00:00     32    0\n 1973035 2020-04-04 02:09:00+00:00     32    0\n 1973036 2020-04-04 02:09:20+00:00     32    0\n 1973037 2020-04-04 02:09:40+00:00     32    0\n 1973038 2020-04-04 02:10:00+00:00     32    0\n 1973039 2020-04-04 02:10:20+00:00     32    0\n 1973040 2020-04-04 02:10:40+00:00     32    0\n 1973041 2020-04-04 02:11:00+00:00     32    0\n 1973042 2020-04-04 02:11:20+00:00     32    0]"
     },
     "execution_count": 50,
     "metadata": {},
     "output_type": "execute_result"
    }
   ],
   "source": [
    "dir_dimm_temp = base_dir + \"dimm*_temp/*\"\n",
    "# iterate through all the dimm*_temp directories and read the parquet files\n",
    "df_dimm_list = []\n",
    "files = glob.glob(dir_dimm_temp)\n",
    "# files = sorted(files, key=lambda x:float(re.findall(\"metric=\\d+\",x)[0]))\n",
    "natural_sorted_files = natural_sort(files)\n",
    "for file_name in natural_sorted_files:\n",
    "    print(file_name)\n",
    "    df_temp = pq.read_table(source=file_name).to_pandas()\n",
    "    df_temp = df_temp.sort_values('node').head(number_of_rows)\n",
    "    df_dimm_list.append(df_temp)\n",
    "df_dimm_list"
   ],
   "metadata": {
    "collapsed": false,
    "ExecuteTime": {
     "end_time": "2023-06-29T17:39:16.249927200Z",
     "start_time": "2023-06-29T17:38:11.336077300Z"
    }
   }
  },
  {
   "cell_type": "code",
   "execution_count": 52,
   "outputs": [
    {
     "name": "stdout",
     "output_type": "stream",
     "text": [
      "Y:/Marconi100 20-04/year_month=20-04/plugin=ipmi_pub\\metric=fan0_0\\a_0.parquet\n",
      "Y:/Marconi100 20-04/year_month=20-04/plugin=ipmi_pub\\metric=fan0_1\\a_0.parquet\n",
      "Y:/Marconi100 20-04/year_month=20-04/plugin=ipmi_pub\\metric=fan1_0\\a_0.parquet\n",
      "Y:/Marconi100 20-04/year_month=20-04/plugin=ipmi_pub\\metric=fan1_1\\a_0.parquet\n",
      "Y:/Marconi100 20-04/year_month=20-04/plugin=ipmi_pub\\metric=fan2_0\\a_0.parquet\n",
      "Y:/Marconi100 20-04/year_month=20-04/plugin=ipmi_pub\\metric=fan2_1\\a_0.parquet\n",
      "Y:/Marconi100 20-04/year_month=20-04/plugin=ipmi_pub\\metric=fan3_0\\a_0.parquet\n",
      "Y:/Marconi100 20-04/year_month=20-04/plugin=ipmi_pub\\metric=fan3_1\\a_0.parquet\n"
     ]
    },
    {
     "data": {
      "text/plain": "[                       timestamp  value node\n 265104 2020-04-04 15:34:00+00:00   9900    0\n 263395 2020-04-04 04:43:00+00:00   4400    0\n 263394 2020-04-04 04:42:40+00:00   4300    0\n 263393 2020-04-04 04:42:20+00:00   4400    0\n 263392 2020-04-04 04:42:00+00:00   4300    0\n 263391 2020-04-04 04:41:40+00:00   4400    0\n 263390 2020-04-04 04:41:20+00:00   4400    0\n 263389 2020-04-04 04:41:00+00:00   4300    0\n 263388 2020-04-04 04:40:40+00:00   4300    0\n 263387 2020-04-04 04:40:20+00:00   4300    0,\n                         timestamp  value node\n 1700571 2020-04-04 08:57:40+00:00   4700    0\n 4355641 2020-04-03 20:16:00+00:00   4700    0\n 4355642 2020-04-03 20:16:20+00:00   4700    0\n 4355643 2020-04-03 20:17:00+00:00   4700    0\n 4355644 2020-04-03 20:17:20+00:00   4700    0\n 4355645 2020-04-03 20:17:40+00:00   4700    0\n 4355646 2020-04-03 20:18:00+00:00   4700    0\n 4355647 2020-04-03 20:18:20+00:00   4700    0\n 4355648 2020-04-03 20:18:40+00:00   4700    0\n 4355649 2020-04-03 20:19:00+00:00   4700    0,\n                         timestamp  value node\n 4454854 2020-04-03 18:35:00+00:00   4300    0\n 234514  2020-04-04 13:14:20+00:00   4400    0\n 234513  2020-04-04 13:14:00+00:00   4300    0\n 234512  2020-04-04 13:13:20+00:00   4400    0\n 234511  2020-04-04 13:13:00+00:00   4400    0\n 234510  2020-04-04 13:12:40+00:00   4400    0\n 234509  2020-04-04 13:12:20+00:00   4400    0\n 234508  2020-04-04 13:12:00+00:00   4300    0\n 234507  2020-04-04 13:11:20+00:00   4400    0\n 234506  2020-04-04 13:11:00+00:00   4400    0,\n                         timestamp  value node\n 0       2020-04-03 22:00:20+00:00   4700    0\n 4707724 2020-04-01 12:03:00+00:00   4700    0\n 4707725 2020-04-01 12:03:20+00:00   4700    0\n 4707726 2020-04-01 12:03:40+00:00   4700    0\n 4707727 2020-04-01 12:04:00+00:00   4700    0\n 4707728 2020-04-01 12:08:00+00:00   5800    0\n 4707729 2020-04-01 12:08:20+00:00   5600    0\n 4707730 2020-04-01 12:08:40+00:00   4700    0\n 4707731 2020-04-01 12:09:00+00:00   4700    0\n 4707732 2020-04-01 12:09:20+00:00   4700    0,\n                         timestamp  value node\n 98304   2020-04-01 07:20:00+00:00   4300    0\n 1167831 2020-04-03 19:10:20+00:00   4300    0\n 1167832 2020-04-03 19:11:00+00:00   4300    0\n 1167833 2020-04-03 19:11:40+00:00   4300    0\n 1167834 2020-04-03 19:12:00+00:00   4400    0\n 1167835 2020-04-03 19:12:20+00:00   4400    0\n 1167836 2020-04-03 19:13:00+00:00   4400    0\n 1167837 2020-04-03 19:13:20+00:00   4400    0\n 1167838 2020-04-03 19:13:40+00:00   4400    0\n 1167839 2020-04-03 19:14:00+00:00   4300    0,\n                        timestamp  value node\n 205140 2020-04-04 02:05:40+00:00   4700    0\n 204922 2020-04-04 00:46:40+00:00   4700    0\n 204921 2020-04-04 00:46:20+00:00   4700    0\n 204920 2020-04-04 00:46:00+00:00   4700    0\n 204919 2020-04-04 00:45:40+00:00   4700    0\n 204918 2020-04-04 00:45:00+00:00   4700    0\n 204917 2020-04-04 00:44:40+00:00   4700    0\n 204916 2020-04-04 00:44:20+00:00   4700    0\n 204915 2020-04-04 00:44:00+00:00   4700    0\n 204914 2020-04-04 00:43:40+00:00   4700    0,\n                         timestamp  value node\n 2549305 2020-04-03 22:00:20+00:00   4400    0\n 1365178 2020-04-01 12:00:40+00:00   4300    0\n 1365179 2020-04-01 12:01:00+00:00   4300    0\n 1365180 2020-04-01 12:01:20+00:00   4400    0\n 1365181 2020-04-01 12:01:40+00:00   4400    0\n 1365182 2020-04-01 12:02:00+00:00   4400    0\n 1365183 2020-04-01 12:02:20+00:00   4400    0\n 1365184 2020-04-01 12:02:40+00:00   4400    0\n 1365185 2020-04-01 12:03:00+00:00   4400    0\n 1365186 2020-04-01 12:03:20+00:00   4400    0,\n                         timestamp  value node\n 1433184 2020-04-04 08:04:40+00:00   9900    0\n 1405035 2020-04-03 20:58:40+00:00   4700    0\n 1405034 2020-04-03 20:58:20+00:00   4700    0\n 1405033 2020-04-03 20:58:00+00:00   4700    0\n 1405032 2020-04-03 20:57:40+00:00   4700    0\n 1405031 2020-04-03 20:57:00+00:00   4700    0\n 1405030 2020-04-03 20:56:40+00:00   4700    0\n 1405029 2020-04-03 20:56:20+00:00   4700    0\n 1405028 2020-04-03 20:56:00+00:00   4700    0\n 1405027 2020-04-03 20:55:40+00:00   4700    0]"
     },
     "execution_count": 52,
     "metadata": {},
     "output_type": "execute_result"
    }
   ],
   "source": [
    "dir_module_fan = base_dir + \"fan[0-9]*/*\"\n",
    "# iterate through all the fan_module directories and read the parquet files\n",
    "df_module_fan = []\n",
    "files = glob.glob(fr\"{dir_module_fan}\")\n",
    "natural_sorted_files = natural_sort(files)\n",
    "for file_name in natural_sorted_files:\n",
    "    print(file_name)\n",
    "    df_temp = pq.read_table(source=file_name).to_pandas()\n",
    "    df_temp = df_temp.sort_values('node').head(number_of_rows)\n",
    "    df_module_fan.append(df_temp)\n",
    "df_module_fan"
   ],
   "metadata": {
    "collapsed": false,
    "ExecuteTime": {
     "end_time": "2023-06-29T17:40:38.904615700Z",
     "start_time": "2023-06-29T17:40:09.128035500Z"
    }
   }
  },
  {
   "cell_type": "code",
   "execution_count": 51,
   "outputs": [
    {
     "data": {
      "text/plain": "                        timestamp  value node year_month    plugin  \\\n948385  2020-04-03 22:00:20+00:00     36    0      20-04  ipmi_pub   \n4142204 2020-04-03 20:20:00+00:00     36    0      20-04  ipmi_pub   \n4142205 2020-04-03 20:20:20+00:00     34    0      20-04  ipmi_pub   \n4142206 2020-04-03 20:20:40+00:00     32    0      20-04  ipmi_pub   \n4142207 2020-04-03 20:21:00+00:00     34    0      20-04  ipmi_pub   \n4142208 2020-04-03 20:21:40+00:00     36    0      20-04  ipmi_pub   \n4142209 2020-04-03 20:22:00+00:00     32    0      20-04  ipmi_pub   \n4142203 2020-04-03 20:19:40+00:00     34    0      20-04  ipmi_pub   \n4142210 2020-04-03 20:22:20+00:00     32    0      20-04  ipmi_pub   \n4142212 2020-04-03 20:23:00+00:00     32    0      20-04  ipmi_pub   \n\n                 metric  \n948385   fan_disk_power  \n4142204  fan_disk_power  \n4142205  fan_disk_power  \n4142206  fan_disk_power  \n4142207  fan_disk_power  \n4142208  fan_disk_power  \n4142209  fan_disk_power  \n4142203  fan_disk_power  \n4142210  fan_disk_power  \n4142212  fan_disk_power  ",
      "text/html": "<div>\n<style scoped>\n    .dataframe tbody tr th:only-of-type {\n        vertical-align: middle;\n    }\n\n    .dataframe tbody tr th {\n        vertical-align: top;\n    }\n\n    .dataframe thead th {\n        text-align: right;\n    }\n</style>\n<table border=\"1\" class=\"dataframe\">\n  <thead>\n    <tr style=\"text-align: right;\">\n      <th></th>\n      <th>timestamp</th>\n      <th>value</th>\n      <th>node</th>\n      <th>year_month</th>\n      <th>plugin</th>\n      <th>metric</th>\n    </tr>\n  </thead>\n  <tbody>\n    <tr>\n      <th>948385</th>\n      <td>2020-04-03 22:00:20+00:00</td>\n      <td>36</td>\n      <td>0</td>\n      <td>20-04</td>\n      <td>ipmi_pub</td>\n      <td>fan_disk_power</td>\n    </tr>\n    <tr>\n      <th>4142204</th>\n      <td>2020-04-03 20:20:00+00:00</td>\n      <td>36</td>\n      <td>0</td>\n      <td>20-04</td>\n      <td>ipmi_pub</td>\n      <td>fan_disk_power</td>\n    </tr>\n    <tr>\n      <th>4142205</th>\n      <td>2020-04-03 20:20:20+00:00</td>\n      <td>34</td>\n      <td>0</td>\n      <td>20-04</td>\n      <td>ipmi_pub</td>\n      <td>fan_disk_power</td>\n    </tr>\n    <tr>\n      <th>4142206</th>\n      <td>2020-04-03 20:20:40+00:00</td>\n      <td>32</td>\n      <td>0</td>\n      <td>20-04</td>\n      <td>ipmi_pub</td>\n      <td>fan_disk_power</td>\n    </tr>\n    <tr>\n      <th>4142207</th>\n      <td>2020-04-03 20:21:00+00:00</td>\n      <td>34</td>\n      <td>0</td>\n      <td>20-04</td>\n      <td>ipmi_pub</td>\n      <td>fan_disk_power</td>\n    </tr>\n    <tr>\n      <th>4142208</th>\n      <td>2020-04-03 20:21:40+00:00</td>\n      <td>36</td>\n      <td>0</td>\n      <td>20-04</td>\n      <td>ipmi_pub</td>\n      <td>fan_disk_power</td>\n    </tr>\n    <tr>\n      <th>4142209</th>\n      <td>2020-04-03 20:22:00+00:00</td>\n      <td>32</td>\n      <td>0</td>\n      <td>20-04</td>\n      <td>ipmi_pub</td>\n      <td>fan_disk_power</td>\n    </tr>\n    <tr>\n      <th>4142203</th>\n      <td>2020-04-03 20:19:40+00:00</td>\n      <td>34</td>\n      <td>0</td>\n      <td>20-04</td>\n      <td>ipmi_pub</td>\n      <td>fan_disk_power</td>\n    </tr>\n    <tr>\n      <th>4142210</th>\n      <td>2020-04-03 20:22:20+00:00</td>\n      <td>32</td>\n      <td>0</td>\n      <td>20-04</td>\n      <td>ipmi_pub</td>\n      <td>fan_disk_power</td>\n    </tr>\n    <tr>\n      <th>4142212</th>\n      <td>2020-04-03 20:23:00+00:00</td>\n      <td>32</td>\n      <td>0</td>\n      <td>20-04</td>\n      <td>ipmi_pub</td>\n      <td>fan_disk_power</td>\n    </tr>\n  </tbody>\n</table>\n</div>"
     },
     "execution_count": 51,
     "metadata": {},
     "output_type": "execute_result"
    }
   ],
   "source": [
    "dir_fan_disk_power = base_dir + \"fan_disk_power/*\"\n",
    "file_fan_disk_power = glob.glob(dir_fan_disk_power)\n",
    "# print(f\"File = {file_fan_disk_power}\")\n",
    "df_fan_disk_power = pq.read_table(source=file_fan_disk_power).to_pandas()\n",
    "df_fan_disk_power = df_fan_disk_power.sort_values('node').head(number_of_rows)\n",
    "df_fan_disk_power"
   ],
   "metadata": {
    "collapsed": false,
    "ExecuteTime": {
     "end_time": "2023-06-29T17:40:05.951240Z",
     "start_time": "2023-06-29T17:40:00.320035100Z"
    }
   }
  },
  {
   "cell_type": "code",
   "execution_count": 53,
   "outputs": [
    {
     "name": "stdout",
     "output_type": "stream",
     "text": [
      "Y:/Marconi100 20-04/year_month=20-04/plugin=ipmi_pub\\metric=gpu0_core_temp\\a_0.parquet\n",
      "Y:/Marconi100 20-04/year_month=20-04/plugin=ipmi_pub\\metric=gpu1_core_temp\\a_0.parquet\n",
      "Y:/Marconi100 20-04/year_month=20-04/plugin=ipmi_pub\\metric=gpu3_core_temp\\a_0.parquet\n",
      "Y:/Marconi100 20-04/year_month=20-04/plugin=ipmi_pub\\metric=gpu4_core_temp\\a_0.parquet\n"
     ]
    },
    {
     "data": {
      "text/plain": "[                        timestamp  value node\n 3440616 2020-04-03 22:00:20+00:00     39    0\n 1984416 2020-04-01 11:57:00+00:00     35    0\n 1984417 2020-04-01 11:57:20+00:00     35    0\n 1984418 2020-04-01 11:57:40+00:00     35    0\n 1984419 2020-04-01 11:58:00+00:00     35    0\n 1984420 2020-04-01 11:58:20+00:00     35    0\n 1984421 2020-04-01 11:58:40+00:00     35    0\n 1984415 2020-04-01 11:56:40+00:00     35    0\n 1984422 2020-04-01 11:59:00+00:00     35    0\n 1984424 2020-04-01 11:59:40+00:00     35    0,\n                        timestamp  value node\n 377855 2020-04-04 14:15:00+00:00     71    0\n 377888 2020-04-04 14:27:00+00:00     69    0\n 377889 2020-04-04 14:27:20+00:00     69    0\n 377890 2020-04-04 14:28:00+00:00     68    0\n 377891 2020-04-04 14:28:20+00:00     69    0\n 377892 2020-04-04 14:28:40+00:00     69    0\n 377893 2020-04-04 14:29:00+00:00     69    0\n 377894 2020-04-04 14:29:20+00:00     69    0\n 377895 2020-04-04 14:29:40+00:00     69    0\n 377896 2020-04-04 14:30:00+00:00     69    0,\n                         timestamp  value node\n 1317855 2020-04-04 00:19:00+00:00     37    0\n 1319267 2020-04-04 08:56:00+00:00     35    0\n 1319266 2020-04-04 08:55:40+00:00     35    0\n 1319265 2020-04-04 08:55:20+00:00     35    0\n 1319264 2020-04-04 08:55:00+00:00     35    0\n 1319263 2020-04-04 08:54:40+00:00     35    0\n 1319262 2020-04-04 08:54:20+00:00     35    0\n 1319268 2020-04-04 08:56:20+00:00     35    0\n 1319261 2020-04-04 08:53:40+00:00     35    0\n 1319259 2020-04-04 08:53:00+00:00     35    0,\n                        timestamp  value node\n 962860 2020-04-04 14:05:20+00:00     51    0\n 28905  2020-04-03 18:59:40+00:00     38    0\n 28906  2020-04-03 19:00:00+00:00     38    0\n 28907  2020-04-03 19:00:20+00:00     38    0\n 28908  2020-04-03 19:00:40+00:00     38    0\n 28909  2020-04-03 19:01:00+00:00     38    0\n 28910  2020-04-03 19:01:40+00:00     38    0\n 28911  2020-04-03 19:02:00+00:00     38    0\n 28912  2020-04-03 19:02:20+00:00     38    0\n 28913  2020-04-03 19:02:40+00:00     38    0]"
     },
     "execution_count": 53,
     "metadata": {},
     "output_type": "execute_result"
    }
   ],
   "source": [
    "dir_gpu_core_temp = base_dir + \"gpu*_core_temp/*\"\n",
    "# iterate through all the gpu_core_temp directories and read the parquet files\n",
    "df_gpu_core_temp = []\n",
    "files = glob.glob(dir_gpu_core_temp)\n",
    "# files = sorted(files, key=lambda x:float(re.findall(\"metric=\\d+\",x)[0]))\n",
    "natural_sorted_files = natural_sort(files)\n",
    "for file_name in natural_sorted_files:\n",
    "    print(file_name)\n",
    "    df_temp = pq.read_table(source=file_name).to_pandas()\n",
    "    df_temp = df_temp.sort_values('node').head(number_of_rows)\n",
    "    df_gpu_core_temp.append(df_temp)\n",
    "df_gpu_core_temp"
   ],
   "metadata": {
    "collapsed": false,
    "ExecuteTime": {
     "end_time": "2023-06-29T17:40:59.064539400Z",
     "start_time": "2023-06-29T17:40:41.994790900Z"
    }
   }
  },
  {
   "cell_type": "code",
   "execution_count": 54,
   "outputs": [
    {
     "name": "stdout",
     "output_type": "stream",
     "text": [
      "Y:/Marconi100 20-04/year_month=20-04/plugin=ipmi_pub\\metric=gpu0_mem_temp\\a_0.parquet\n",
      "Y:/Marconi100 20-04/year_month=20-04/plugin=ipmi_pub\\metric=gpu1_mem_temp\\a_0.parquet\n",
      "Y:/Marconi100 20-04/year_month=20-04/plugin=ipmi_pub\\metric=gpu3_mem_temp\\a_0.parquet\n",
      "Y:/Marconi100 20-04/year_month=20-04/plugin=ipmi_pub\\metric=gpu4_mem_temp\\a_0.parquet\n"
     ]
    },
    {
     "data": {
      "text/plain": "[                        timestamp  value node\n 3026335 2020-04-01 12:50:40+00:00     33    0\n 929140  2020-04-04 09:08:20+00:00     35    0\n 929141  2020-04-04 09:09:00+00:00     34    0\n 929142  2020-04-04 09:09:20+00:00     34    0\n 929143  2020-04-04 09:09:40+00:00     35    0\n 929144  2020-04-04 09:10:00+00:00     34    0\n 929145  2020-04-04 09:10:20+00:00     35    0\n 929146  2020-04-04 09:11:00+00:00     35    0\n 929147  2020-04-04 09:11:20+00:00     34    0\n 929148  2020-04-04 09:11:40+00:00     35    0,\n                         timestamp  value node\n 1875265 2020-04-04 07:57:00+00:00     69    0\n 1874197 2020-04-04 01:28:00+00:00     36    0\n 1874196 2020-04-04 01:27:40+00:00     36    0\n 1874195 2020-04-04 01:27:20+00:00     36    0\n 1874194 2020-04-04 01:27:00+00:00     36    0\n 1874193 2020-04-04 01:26:40+00:00     36    0\n 1874192 2020-04-04 01:26:20+00:00     36    0\n 1874191 2020-04-04 01:26:00+00:00     36    0\n 1874190 2020-04-04 01:25:40+00:00     36    0\n 1874189 2020-04-04 01:25:20+00:00     36    0,\n                       timestamp  value node\n 78672 2020-04-04 10:25:00+00:00     34    0\n 78502 2020-04-04 09:17:00+00:00     33    0\n 78501 2020-04-04 09:16:40+00:00     33    0\n 78500 2020-04-04 09:16:20+00:00     33    0\n 78499 2020-04-04 09:15:40+00:00     33    0\n 78498 2020-04-04 09:15:20+00:00     33    0\n 78497 2020-04-04 09:15:00+00:00     33    0\n 78496 2020-04-04 09:14:40+00:00     33    0\n 78495 2020-04-04 09:14:20+00:00     33    0\n 78494 2020-04-04 09:14:00+00:00     33    0,\n                       timestamp  value node\n 98910 2020-04-01 10:42:00+00:00     35    0\n 99139 2020-04-01 12:18:40+00:00     35    0\n 99140 2020-04-01 12:19:00+00:00     35    0\n 99141 2020-04-01 12:19:20+00:00     35    0\n 99142 2020-04-01 12:19:40+00:00     35    0\n 99143 2020-04-01 12:20:00+00:00     35    0\n 99144 2020-04-01 12:20:20+00:00     35    0\n 99145 2020-04-01 12:20:40+00:00     35    0\n 99146 2020-04-01 12:21:00+00:00     35    0\n 99147 2020-04-01 12:21:20+00:00     35    0]"
     },
     "execution_count": 54,
     "metadata": {},
     "output_type": "execute_result"
    }
   ],
   "source": [
    "dir_gpu_mem_temp = base_dir + \"gpu*_mem_temp/*\"\n",
    "# iterate through all the gpu_mem_temp directories and read the parquet files\n",
    "df_gpu_mem_temp = []\n",
    "files = glob.glob(dir_gpu_mem_temp)\n",
    "# files = sorted(files, key=lambda x:float(re.findall(\"metric=\\d+\",x)[0]))\n",
    "natural_sorted_files = natural_sort(files)\n",
    "for file_name in natural_sorted_files:\n",
    "    print(file_name)\n",
    "    df_temp = pq.read_table(source=file_name).to_pandas()\n",
    "    df_temp = df_temp.sort_values('node').head(number_of_rows)\n",
    "    df_gpu_mem_temp.append(df_temp)\n",
    "df_gpu_mem_temp"
   ],
   "metadata": {
    "collapsed": false,
    "ExecuteTime": {
     "end_time": "2023-06-29T17:41:19.579761100Z",
     "start_time": "2023-06-29T17:41:01.611625200Z"
    }
   }
  },
  {
   "cell_type": "code",
   "execution_count": 55,
   "outputs": [
    {
     "name": "stdout",
     "output_type": "stream",
     "text": [
      "Y:/Marconi100 20-04/year_month=20-04/plugin=ipmi_pub\\metric=gv100card0\\a_0.parquet\n",
      "Y:/Marconi100 20-04/year_month=20-04/plugin=ipmi_pub\\metric=gv100card1\\a_0.parquet\n",
      "Y:/Marconi100 20-04/year_month=20-04/plugin=ipmi_pub\\metric=gv100card3\\a_0.parquet\n",
      "Y:/Marconi100 20-04/year_month=20-04/plugin=ipmi_pub\\metric=gv100card4\\a_0.parquet\n"
     ]
    },
    {
     "data": {
      "text/plain": "[                        timestamp  value node\n 3140707 2020-04-04 03:50:40+00:00      0    0\n 3141888 2020-04-04 11:08:40+00:00      0    0\n 3141887 2020-04-04 11:08:20+00:00      0    0\n 3141886 2020-04-04 11:07:40+00:00      0    0\n 3141885 2020-04-04 11:07:00+00:00      0    0\n 3141884 2020-04-04 11:06:40+00:00      0    0\n 3141883 2020-04-04 11:06:20+00:00      0    0\n 3141882 2020-04-04 11:06:00+00:00      0    0\n 3141881 2020-04-04 11:05:40+00:00      0    0\n 3141880 2020-04-04 11:05:00+00:00      0    0,\n                         timestamp  value node\n 1424330 2020-04-01 08:17:40+00:00      0    0\n 1424473 2020-04-01 09:05:20+00:00      0    0\n 1424474 2020-04-01 09:05:40+00:00      0    0\n 1424475 2020-04-01 09:06:00+00:00      0    0\n 1424476 2020-04-01 09:06:20+00:00      0    0\n 1424477 2020-04-01 09:06:40+00:00      0    0\n 1424478 2020-04-01 09:07:00+00:00      0    0\n 1424479 2020-04-01 09:07:20+00:00      0    0\n 1424480 2020-04-01 09:07:40+00:00      0    0\n 1424472 2020-04-01 09:05:00+00:00      0    0,\n                        timestamp  value node\n 164097 2020-04-01 07:20:00+00:00      0    0\n 484911 2020-04-04 09:37:00+00:00      0    0\n 484912 2020-04-04 09:38:00+00:00      0    0\n 484913 2020-04-04 09:38:20+00:00      0    0\n 484914 2020-04-04 09:39:20+00:00      0    0\n 484915 2020-04-04 09:39:40+00:00      0    0\n 484916 2020-04-04 09:40:00+00:00      0    0\n 484917 2020-04-04 09:40:20+00:00      0    0\n 484918 2020-04-04 09:40:40+00:00      0    0\n 484919 2020-04-04 09:41:00+00:00      0    0,\n                         timestamp  value node\n 3734765 2020-04-04 16:31:40+00:00      0    0\n 3733551 2020-04-04 08:30:20+00:00      0    0\n 3733552 2020-04-04 08:30:40+00:00      0    0\n 3733553 2020-04-04 08:31:00+00:00      0    0\n 3733554 2020-04-04 08:31:20+00:00      0    0\n 3733555 2020-04-04 08:31:40+00:00      0    0\n 3733556 2020-04-04 08:32:00+00:00      0    0\n 3733557 2020-04-04 08:32:20+00:00      0    0\n 3733558 2020-04-04 08:32:40+00:00      0    0\n 3733559 2020-04-04 08:33:00+00:00      0    0]"
     },
     "execution_count": 55,
     "metadata": {},
     "output_type": "execute_result"
    }
   ],
   "source": [
    "dir_gv100card = base_dir + \"gv100card*/*\"\n",
    "files = glob.glob(dir_gv100card)\n",
    "natural_sorted_files = natural_sort(files)\n",
    "df_gv100card = []\n",
    "for file_name in natural_sorted_files:\n",
    "    print(file_name)\n",
    "    df_temp = pq.read_table(source=file_name).to_pandas()\n",
    "    df_temp = df_temp.sort_values('node').head(number_of_rows)\n",
    "    df_gv100card.append(df_temp)\n",
    "df_gv100card"
   ],
   "metadata": {
    "collapsed": false,
    "ExecuteTime": {
     "end_time": "2023-06-29T17:42:03.659534600Z",
     "start_time": "2023-06-29T17:41:48.409664500Z"
    }
   }
  },
  {
   "cell_type": "code",
   "execution_count": 56,
   "outputs": [
    {
     "name": "stdout",
     "output_type": "stream",
     "text": [
      "Y:/Marconi100 20-04/year_month=20-04/plugin=ipmi_pub\\metric=p0_core0_temp\\a_0.parquet\n",
      "Y:/Marconi100 20-04/year_month=20-04/plugin=ipmi_pub\\metric=p0_core1_temp\\a_0.parquet\n",
      "Y:/Marconi100 20-04/year_month=20-04/plugin=ipmi_pub\\metric=p0_core2_temp\\a_0.parquet\n",
      "Y:/Marconi100 20-04/year_month=20-04/plugin=ipmi_pub\\metric=p0_core3_temp\\a_0.parquet\n",
      "Y:/Marconi100 20-04/year_month=20-04/plugin=ipmi_pub\\metric=p0_core4_temp\\a_0.parquet\n",
      "Y:/Marconi100 20-04/year_month=20-04/plugin=ipmi_pub\\metric=p0_core5_temp\\a_0.parquet\n",
      "Y:/Marconi100 20-04/year_month=20-04/plugin=ipmi_pub\\metric=p0_core6_temp\\a_0.parquet\n",
      "Y:/Marconi100 20-04/year_month=20-04/plugin=ipmi_pub\\metric=p0_core7_temp\\a_0.parquet\n",
      "Y:/Marconi100 20-04/year_month=20-04/plugin=ipmi_pub\\metric=p0_core8_temp\\a_0.parquet\n",
      "Y:/Marconi100 20-04/year_month=20-04/plugin=ipmi_pub\\metric=p0_core9_temp\\a_0.parquet\n",
      "Y:/Marconi100 20-04/year_month=20-04/plugin=ipmi_pub\\metric=p0_core10_temp\\a_0.parquet\n",
      "Y:/Marconi100 20-04/year_month=20-04/plugin=ipmi_pub\\metric=p0_core11_temp\\a_0.parquet\n",
      "Y:/Marconi100 20-04/year_month=20-04/plugin=ipmi_pub\\metric=p0_core12_temp\\a_0.parquet\n",
      "Y:/Marconi100 20-04/year_month=20-04/plugin=ipmi_pub\\metric=p0_core13_temp\\a_0.parquet\n",
      "Y:/Marconi100 20-04/year_month=20-04/plugin=ipmi_pub\\metric=p0_core14_temp\\a_0.parquet\n",
      "Y:/Marconi100 20-04/year_month=20-04/plugin=ipmi_pub\\metric=p0_core15_temp\\a_0.parquet\n",
      "Y:/Marconi100 20-04/year_month=20-04/plugin=ipmi_pub\\metric=p0_core16_temp\\a_0.parquet\n",
      "Y:/Marconi100 20-04/year_month=20-04/plugin=ipmi_pub\\metric=p0_core17_temp\\a_0.parquet\n",
      "Y:/Marconi100 20-04/year_month=20-04/plugin=ipmi_pub\\metric=p0_core18_temp\\a_0.parquet\n",
      "Y:/Marconi100 20-04/year_month=20-04/plugin=ipmi_pub\\metric=p0_core19_temp\\a_0.parquet\n",
      "Y:/Marconi100 20-04/year_month=20-04/plugin=ipmi_pub\\metric=p0_core20_temp\\a_0.parquet\n",
      "Y:/Marconi100 20-04/year_month=20-04/plugin=ipmi_pub\\metric=p0_core21_temp\\a_0.parquet\n",
      "Y:/Marconi100 20-04/year_month=20-04/plugin=ipmi_pub\\metric=p0_core22_temp\\a_0.parquet\n",
      "Y:/Marconi100 20-04/year_month=20-04/plugin=ipmi_pub\\metric=p0_core23_temp\\a_0.parquet\n",
      "Y:/Marconi100 20-04/year_month=20-04/plugin=ipmi_pub\\metric=p1_core0_temp\\a_0.parquet\n",
      "Y:/Marconi100 20-04/year_month=20-04/plugin=ipmi_pub\\metric=p1_core1_temp\\a_0.parquet\n",
      "Y:/Marconi100 20-04/year_month=20-04/plugin=ipmi_pub\\metric=p1_core2_temp\\a_0.parquet\n",
      "Y:/Marconi100 20-04/year_month=20-04/plugin=ipmi_pub\\metric=p1_core3_temp\\a_0.parquet\n",
      "Y:/Marconi100 20-04/year_month=20-04/plugin=ipmi_pub\\metric=p1_core4_temp\\a_0.parquet\n",
      "Y:/Marconi100 20-04/year_month=20-04/plugin=ipmi_pub\\metric=p1_core5_temp\\a_0.parquet\n",
      "Y:/Marconi100 20-04/year_month=20-04/plugin=ipmi_pub\\metric=p1_core6_temp\\a_0.parquet\n",
      "Y:/Marconi100 20-04/year_month=20-04/plugin=ipmi_pub\\metric=p1_core7_temp\\a_0.parquet\n",
      "Y:/Marconi100 20-04/year_month=20-04/plugin=ipmi_pub\\metric=p1_core8_temp\\a_0.parquet\n",
      "Y:/Marconi100 20-04/year_month=20-04/plugin=ipmi_pub\\metric=p1_core9_temp\\a_0.parquet\n",
      "Y:/Marconi100 20-04/year_month=20-04/plugin=ipmi_pub\\metric=p1_core10_temp\\a_0.parquet\n",
      "Y:/Marconi100 20-04/year_month=20-04/plugin=ipmi_pub\\metric=p1_core11_temp\\a_0.parquet\n",
      "Y:/Marconi100 20-04/year_month=20-04/plugin=ipmi_pub\\metric=p1_core12_temp\\a_0.parquet\n",
      "Y:/Marconi100 20-04/year_month=20-04/plugin=ipmi_pub\\metric=p1_core13_temp\\a_0.parquet\n",
      "Y:/Marconi100 20-04/year_month=20-04/plugin=ipmi_pub\\metric=p1_core14_temp\\a_0.parquet\n",
      "Y:/Marconi100 20-04/year_month=20-04/plugin=ipmi_pub\\metric=p1_core15_temp\\a_0.parquet\n",
      "Y:/Marconi100 20-04/year_month=20-04/plugin=ipmi_pub\\metric=p1_core16_temp\\a_0.parquet\n",
      "Y:/Marconi100 20-04/year_month=20-04/plugin=ipmi_pub\\metric=p1_core17_temp\\a_0.parquet\n",
      "Y:/Marconi100 20-04/year_month=20-04/plugin=ipmi_pub\\metric=p1_core18_temp\\a_0.parquet\n",
      "Y:/Marconi100 20-04/year_month=20-04/plugin=ipmi_pub\\metric=p1_core19_temp\\a_0.parquet\n",
      "Y:/Marconi100 20-04/year_month=20-04/plugin=ipmi_pub\\metric=p1_core20_temp\\a_0.parquet\n",
      "Y:/Marconi100 20-04/year_month=20-04/plugin=ipmi_pub\\metric=p1_core21_temp\\a_0.parquet\n",
      "Y:/Marconi100 20-04/year_month=20-04/plugin=ipmi_pub\\metric=p1_core22_temp\\a_0.parquet\n",
      "Y:/Marconi100 20-04/year_month=20-04/plugin=ipmi_pub\\metric=p1_core23_temp\\a_0.parquet\n"
     ]
    },
    {
     "data": {
      "text/plain": "[                       timestamp  value node\n 526813 2020-04-03 22:00:00+00:00     60    1\n 48437  2020-04-03 18:44:40+00:00     40    1\n 48436  2020-04-03 18:44:20+00:00     40    1\n 48435  2020-04-03 18:43:40+00:00     40    1\n 48434  2020-04-03 18:43:20+00:00     40    1\n 48433  2020-04-03 18:43:00+00:00     40    1\n 48432  2020-04-03 18:42:40+00:00     40    1\n 48431  2020-04-03 18:42:20+00:00     40    1\n 48430  2020-04-03 18:42:00+00:00     40    1\n 48429  2020-04-03 18:41:40+00:00     40    1,\n                        timestamp  value node\n 229679 2020-04-01 07:20:00+00:00     40    1\n 229961 2020-04-01 08:54:00+00:00     40    1\n 229960 2020-04-01 08:53:40+00:00     40    1\n 229959 2020-04-01 08:53:20+00:00     39    1\n 229958 2020-04-01 08:53:00+00:00     39    1\n 229957 2020-04-01 08:52:40+00:00     39    1\n 229956 2020-04-01 08:52:20+00:00     39    1\n 229955 2020-04-01 08:52:00+00:00     39    1\n 229954 2020-04-01 08:51:40+00:00     40    1\n 229953 2020-04-01 08:51:20+00:00     39    1,\n                         timestamp  value node\n 652749  2020-04-04 10:54:20+00:00     35  100\n 1701484 2020-04-01 10:17:00+00:00     34  100\n 1701483 2020-04-01 10:16:40+00:00     35  100\n 1701482 2020-04-01 10:16:20+00:00     35  100\n 1701481 2020-04-01 10:16:00+00:00     35  100\n 1701480 2020-04-01 10:15:40+00:00     35  100\n 1701479 2020-04-01 10:15:20+00:00     35  100\n 1701478 2020-04-01 10:15:00+00:00     34  100\n 1701477 2020-04-01 10:14:40+00:00     35  100\n 1701476 2020-04-01 10:14:20+00:00     35  100,\n                         timestamp  value node\n 1548277 2020-04-04 10:54:20+00:00     35  100\n 2326297 2020-04-03 20:01:40+00:00     31  100\n 2326298 2020-04-03 20:02:00+00:00     32  100\n 2326299 2020-04-03 20:02:20+00:00     31  100\n 2326300 2020-04-03 20:02:40+00:00     31  100\n 2326301 2020-04-03 20:03:00+00:00     30  100\n 2326302 2020-04-03 20:03:40+00:00     31  100\n 2326303 2020-04-03 20:04:00+00:00     31  100\n 2326304 2020-04-03 20:04:20+00:00     30  100\n 2326305 2020-04-03 20:04:40+00:00     30  100,\n                         timestamp  value node\n 2932    2020-04-04 15:06:40+00:00     38    1\n 1839056 2020-04-03 17:50:20+00:00     40    1\n 1839055 2020-04-03 17:50:00+00:00     40    1\n 1839054 2020-04-03 17:49:40+00:00     40    1\n 1839053 2020-04-03 17:49:20+00:00     40    1\n 1839052 2020-04-03 17:49:00+00:00     40    1\n 1839051 2020-04-03 17:48:20+00:00     40    1\n 1839050 2020-04-03 17:48:00+00:00     40    1\n 1839049 2020-04-03 17:47:40+00:00     40    1\n 1839048 2020-04-03 17:47:20+00:00     40    1,\n                       timestamp  value node\n 99440 2020-04-01 12:49:20+00:00     40    1\n 98792 2020-04-01 09:13:20+00:00     39    1\n 98791 2020-04-01 09:13:00+00:00     39    1\n 98790 2020-04-01 09:12:40+00:00     39    1\n 98789 2020-04-01 09:12:20+00:00     39    1\n 98788 2020-04-01 09:12:00+00:00     38    1\n 98787 2020-04-01 09:11:40+00:00     39    1\n 98786 2020-04-01 09:11:20+00:00     39    1\n 98785 2020-04-01 09:11:00+00:00     39    1\n 98784 2020-04-01 09:10:40+00:00     39    1,\n                        timestamp  value node\n 323584 2020-04-01 07:20:00+00:00     40    1\n 683997 2020-04-04 11:20:00+00:00     42    1\n 683996 2020-04-04 11:19:40+00:00     42    1\n 683995 2020-04-04 11:19:20+00:00     42    1\n 683994 2020-04-04 11:19:00+00:00     42    1\n 683993 2020-04-04 11:18:40+00:00     43    1\n 683992 2020-04-04 11:18:20+00:00     42    1\n 683991 2020-04-04 11:18:00+00:00     42    1\n 683990 2020-04-04 11:17:40+00:00     43    1\n 683989 2020-04-04 11:17:20+00:00     42    1,\n                        timestamp  value node\n 0      2020-04-03 16:58:00+00:00     45    1\n 692265 2020-04-04 02:29:20+00:00     43    1\n 692264 2020-04-04 02:29:00+00:00     43    1\n 692263 2020-04-04 02:28:40+00:00     42    1\n 692262 2020-04-04 02:28:20+00:00     43    1\n 692261 2020-04-04 02:28:00+00:00     43    1\n 692260 2020-04-04 02:27:40+00:00     43    1\n 692259 2020-04-04 02:27:20+00:00     43    1\n 692258 2020-04-04 02:27:00+00:00     43    1\n 692257 2020-04-04 02:26:40+00:00     43    1,\n                        timestamp  value node\n 526125 2020-04-03 22:00:20+00:00     43    0\n 872003 2020-04-01 08:50:20+00:00     39    0\n 872002 2020-04-01 08:50:00+00:00     39    0\n 872001 2020-04-01 08:49:40+00:00     39    0\n 872000 2020-04-01 08:49:20+00:00     38    0\n 871999 2020-04-01 08:49:00+00:00     39    0\n 871998 2020-04-01 08:48:40+00:00     39    0\n 872004 2020-04-01 08:50:40+00:00     39    0\n 871997 2020-04-01 08:48:20+00:00     39    0\n 871995 2020-04-01 08:47:40+00:00     39    0,\n                        timestamp  value node\n 652017 2020-04-01 07:20:00+00:00     39    0\n 789007 2020-04-04 08:59:00+00:00     41    0\n 789006 2020-04-04 08:58:40+00:00     42    0\n 789005 2020-04-04 08:58:20+00:00     41    0\n 789004 2020-04-04 08:58:00+00:00     41    0\n 789003 2020-04-04 08:57:40+00:00     41    0\n 789002 2020-04-04 08:57:20+00:00     41    0\n 789001 2020-04-04 08:57:00+00:00     42    0\n 789000 2020-04-04 08:56:40+00:00     41    0\n 788999 2020-04-04 08:56:20+00:00     42    0,\n                        timestamp  value node\n 523550 2020-04-01 08:18:40+00:00     39    0\n 98424  2020-04-03 17:45:20+00:00     40    0\n 98423  2020-04-03 17:45:00+00:00     40    0\n 98422  2020-04-03 17:44:40+00:00     40    0\n 98421  2020-04-03 17:44:20+00:00     40    0\n 98420  2020-04-03 17:44:00+00:00     41    0\n 98419  2020-04-03 17:43:40+00:00     40    0\n 98425  2020-04-03 17:45:40+00:00     41    0\n 98418  2020-04-03 17:43:20+00:00     41    0\n 98416  2020-04-03 17:42:40+00:00     40    0,\n                         timestamp  value node\n 1991119 2020-04-04 15:28:20+00:00     59    0\n 1990172 2020-04-04 09:31:20+00:00     60    0\n 1990173 2020-04-04 09:31:40+00:00     60    0\n 1990174 2020-04-04 09:32:00+00:00     60    0\n 1990175 2020-04-04 09:32:20+00:00     61    0\n 1990176 2020-04-04 09:33:00+00:00     60    0\n 1990177 2020-04-04 09:34:00+00:00     60    0\n 1990178 2020-04-04 09:34:20+00:00     61    0\n 1990179 2020-04-04 09:34:40+00:00     60    0\n 1990171 2020-04-04 09:31:00+00:00     60    0,\n                         timestamp  value node\n 0       2020-04-01 07:20:00+00:00     40    0\n 2209309 2020-04-04 10:17:00+00:00     61    0\n 2209310 2020-04-04 10:17:20+00:00     61    0\n 2209311 2020-04-04 10:17:40+00:00     61    0\n 2209312 2020-04-04 10:18:20+00:00     61    0\n 2209313 2020-04-04 10:18:40+00:00     61    0\n 2209314 2020-04-04 10:19:00+00:00     50    0\n 2209315 2020-04-04 10:19:40+00:00     47    0\n 2209316 2020-04-04 10:20:00+00:00     45    0\n 2209317 2020-04-04 10:20:20+00:00     44    0,\n                        timestamp  value node\n 440007 2020-04-04 14:53:40+00:00     38    0\n 437317 2020-04-03 22:16:00+00:00     43    0\n 437316 2020-04-03 22:15:40+00:00     43    0\n 437315 2020-04-03 22:15:20+00:00     43    0\n 437314 2020-04-03 22:15:00+00:00     43    0\n 437313 2020-04-03 22:14:40+00:00     43    0\n 437312 2020-04-03 22:14:20+00:00     43    0\n 437311 2020-04-03 22:14:00+00:00     43    0\n 437310 2020-04-03 22:13:40+00:00     43    0\n 437309 2020-04-03 22:13:20+00:00     42    0,\n                        timestamp  value node\n 170877 2020-04-03 22:00:20+00:00     43    0\n 173268 2020-04-04 12:43:00+00:00     57    0\n 173269 2020-04-04 12:43:20+00:00     61    0\n 173270 2020-04-04 12:43:40+00:00     64    0\n 173271 2020-04-04 12:44:00+00:00     64    0\n 173272 2020-04-04 12:44:20+00:00     66    0\n 173273 2020-04-04 12:44:40+00:00     66    0\n 173274 2020-04-04 12:45:00+00:00     64    0\n 173275 2020-04-04 12:45:20+00:00     63    0\n 173276 2020-04-04 12:45:40+00:00     62    0,\n                        timestamp  value node\n 0      2020-04-03 16:58:00+00:00     41    0\n 423980 2020-04-01 12:13:40+00:00     40    0\n 423979 2020-04-01 12:13:20+00:00     39    0\n 423978 2020-04-01 12:13:00+00:00     39    0\n 423977 2020-04-01 12:12:40+00:00     39    0\n 423976 2020-04-01 12:12:20+00:00     40    0\n 423975 2020-04-01 12:12:00+00:00     39    0\n 423974 2020-04-01 12:11:40+00:00     39    0\n 423973 2020-04-01 12:11:20+00:00     40    0\n 423972 2020-04-01 12:11:00+00:00     40    0,\n                         timestamp  value node\n 1624889 2020-04-04 12:15:00+00:00     58    0\n 463645  2020-04-01 09:17:20+00:00     38    0\n 463646  2020-04-01 09:17:40+00:00     38    0\n 463647  2020-04-01 09:18:00+00:00     38    0\n 463648  2020-04-01 09:18:20+00:00     38    0\n 463649  2020-04-01 09:18:40+00:00     37    0\n 463650  2020-04-01 09:19:00+00:00     38    0\n 463651  2020-04-01 09:19:20+00:00     39    0\n 463652  2020-04-01 09:19:40+00:00     38    0\n 463653  2020-04-01 09:20:00+00:00     38    0,\n                         timestamp  value node\n 107584  2020-04-04 16:52:40+00:00     40    0\n 2651220 2020-04-01 11:56:20+00:00     40    0\n 2651221 2020-04-01 11:56:40+00:00     40    0\n 2651222 2020-04-01 11:57:00+00:00     39    0\n 2651223 2020-04-01 11:57:20+00:00     40    0\n 2651224 2020-04-01 11:57:40+00:00     39    0\n 2651225 2020-04-01 11:58:00+00:00     39    0\n 2651219 2020-04-01 11:56:00+00:00     39    0\n 2651226 2020-04-01 11:58:20+00:00     39    0\n 2651228 2020-04-01 11:59:00+00:00     39    0,\n                         timestamp  value node\n 3277136 2020-04-03 18:01:40+00:00     40    0\n 11194   2020-04-04 08:20:40+00:00     42    0\n 11195   2020-04-04 08:21:00+00:00     42    0\n 11196   2020-04-04 08:21:20+00:00     42    0\n 11197   2020-04-04 08:21:40+00:00     42    0\n 11198   2020-04-04 08:22:00+00:00     42    0\n 11199   2020-04-04 08:22:20+00:00     41    0\n 11200   2020-04-04 08:23:00+00:00     41    0\n 11201   2020-04-04 08:23:20+00:00     42    0\n 11202   2020-04-04 08:23:40+00:00     41    0,\n                        timestamp  value node\n 173980 2020-04-04 10:05:00+00:00     63    0\n 172297 2020-04-03 23:43:40+00:00     44    0\n 172296 2020-04-03 23:43:20+00:00     43    0\n 172295 2020-04-03 23:43:00+00:00     44    0\n 172294 2020-04-03 23:42:40+00:00     44    0\n 172293 2020-04-03 23:42:20+00:00     44    0\n 172292 2020-04-03 23:42:00+00:00     44    0\n 172291 2020-04-03 23:41:40+00:00     44    0\n 172290 2020-04-03 23:41:20+00:00     43    0\n 172289 2020-04-03 23:41:00+00:00     44    0,\n                         timestamp  value node\n 1657035 2020-04-04 12:16:00+00:00     63    0\n 1655440 2020-04-04 02:24:40+00:00     40    0\n 1655439 2020-04-04 02:24:20+00:00     39    0\n 1655438 2020-04-04 02:24:00+00:00     40    0\n 1655437 2020-04-04 02:23:40+00:00     39    0\n 1655436 2020-04-04 02:23:20+00:00     40    0\n 1655435 2020-04-04 02:23:00+00:00     39    0\n 1655434 2020-04-04 02:22:40+00:00     39    0\n 1655433 2020-04-04 02:22:20+00:00     40    0\n 1655432 2020-04-04 02:22:00+00:00     39    0,\n                         timestamp  value node\n 1476578 2020-04-04 12:00:20+00:00     40    0\n 1476747 2020-04-04 13:02:20+00:00     39    0\n 1476746 2020-04-04 13:02:00+00:00     39    0\n 1476745 2020-04-04 13:01:20+00:00     39    0\n 1476744 2020-04-04 13:01:00+00:00     39    0\n 1476743 2020-04-04 13:00:40+00:00     39    0\n 1476742 2020-04-04 13:00:20+00:00     39    0\n 1476748 2020-04-04 13:02:40+00:00     39    0\n 1476741 2020-04-04 13:00:00+00:00     40    0\n 1476739 2020-04-04 12:59:20+00:00     39    0,\n                        timestamp  value node\n 0      2020-04-01 07:20:00+00:00     39    0\n 541788 2020-04-04 10:11:40+00:00     64    0\n 541789 2020-04-04 10:12:00+00:00     65    0\n 541790 2020-04-04 10:12:20+00:00     64    0\n 541791 2020-04-04 10:12:40+00:00     64    0\n 541792 2020-04-04 10:13:00+00:00     64    0\n 541793 2020-04-04 10:14:00+00:00     64    0\n 541794 2020-04-04 10:14:20+00:00     64    0\n 541795 2020-04-04 10:14:40+00:00     64    0\n 541796 2020-04-04 10:15:00+00:00     65    0,\n                         timestamp  value node\n 1038497 2020-04-03 18:03:40+00:00     40    0\n 1171765 2020-04-04 01:09:40+00:00     40    0\n 1171766 2020-04-04 01:10:00+00:00     40    0\n 1171767 2020-04-04 01:10:20+00:00     40    0\n 1171768 2020-04-04 01:11:00+00:00     40    0\n 1171769 2020-04-04 01:11:20+00:00     40    0\n 1171770 2020-04-04 01:11:40+00:00     40    0\n 1171764 2020-04-04 01:09:20+00:00     40    0\n 1171771 2020-04-04 01:12:00+00:00     40    0\n 1171773 2020-04-04 01:12:40+00:00     40    0,\n                        timestamp  value node\n 33700  2020-04-04 03:13:40+00:00     37    1\n 606075 2020-04-03 21:50:20+00:00     58    1\n 606076 2020-04-03 21:50:40+00:00     59    1\n 606077 2020-04-03 21:51:00+00:00     58    1\n 606078 2020-04-03 21:51:40+00:00     57    1\n 606079 2020-04-03 21:52:00+00:00     58    1\n 606080 2020-04-03 21:52:20+00:00     58    1\n 606081 2020-04-03 21:52:40+00:00     59    1\n 606082 2020-04-03 21:53:00+00:00     58    1\n 606083 2020-04-03 21:53:20+00:00     58    1,\n                        timestamp  value node\n 872362 2020-04-04 04:40:00+00:00     37    1\n 872397 2020-04-04 04:52:00+00:00     36    1\n 872398 2020-04-04 04:52:20+00:00     36    1\n 872399 2020-04-04 04:52:40+00:00     37    1\n 872400 2020-04-04 04:53:00+00:00     37    1\n 872401 2020-04-04 04:53:20+00:00     36    1\n 872402 2020-04-04 04:53:40+00:00     36    1\n 872403 2020-04-04 04:54:00+00:00     36    1\n 872404 2020-04-04 04:54:20+00:00     37    1\n 872396 2020-04-04 04:51:40+00:00     37    1,\n                        timestamp  value node\n 21297  2020-04-01 07:20:00+00:00     44   10\n 644998 2020-04-04 05:00:40+00:00     41   10\n 644997 2020-04-04 05:00:20+00:00     41   10\n 644996 2020-04-04 05:00:00+00:00     41   10\n 644995 2020-04-04 04:59:40+00:00     42   10\n 644994 2020-04-04 04:59:20+00:00     41   10\n 644993 2020-04-04 04:59:00+00:00     41   10\n 644992 2020-04-04 04:58:40+00:00     41   10\n 644991 2020-04-04 04:58:20+00:00     41   10\n 644990 2020-04-04 04:58:00+00:00     41   10,\n                        timestamp  value node\n 442270 2020-04-03 22:00:20+00:00     58   10\n 444083 2020-04-04 09:11:40+00:00     43   10\n 444082 2020-04-04 09:11:20+00:00     43   10\n 444081 2020-04-04 09:11:00+00:00     43   10\n 444080 2020-04-04 09:10:40+00:00     43   10\n 444079 2020-04-04 09:10:20+00:00     43   10\n 444078 2020-04-04 09:10:00+00:00     42   10\n 444077 2020-04-04 09:09:40+00:00     43   10\n 444076 2020-04-04 09:09:20+00:00     44   10\n 444075 2020-04-04 09:09:00+00:00     43   10,\n                        timestamp  value node\n 57632  2020-04-01 09:06:20+00:00     35    1\n 518248 2020-04-04 14:15:40+00:00     39    1\n 518247 2020-04-04 14:15:20+00:00     40    1\n 518246 2020-04-04 14:15:00+00:00     42    1\n 518245 2020-04-04 14:14:40+00:00     46    1\n 518244 2020-04-04 14:14:20+00:00     60    1\n 518243 2020-04-04 14:14:00+00:00     59    1\n 518242 2020-04-04 14:13:40+00:00     60    1\n 518241 2020-04-04 14:13:20+00:00     60    1\n 518239 2020-04-04 14:12:40+00:00     60    1,\n                         timestamp  value node\n 399408  2020-04-03 22:00:00+00:00     58    1\n 1479603 2020-04-01 08:54:20+00:00     35    1\n 1479602 2020-04-01 08:54:00+00:00     36    1\n 1479601 2020-04-01 08:53:40+00:00     36    1\n 1479600 2020-04-01 08:53:20+00:00     36    1\n 1479599 2020-04-01 08:53:00+00:00     36    1\n 1479598 2020-04-01 08:52:40+00:00     36    1\n 1479597 2020-04-01 08:52:20+00:00     36    1\n 1479596 2020-04-01 08:52:00+00:00     36    1\n 1479595 2020-04-01 08:51:40+00:00     36    1,\n                         timestamp  value node\n 992696  2020-04-01 09:17:00+00:00     36    1\n 2611708 2020-04-04 13:10:40+00:00     36    1\n 2611707 2020-04-04 13:10:20+00:00     37    1\n 2611706 2020-04-04 13:10:00+00:00     36    1\n 2611705 2020-04-04 13:09:40+00:00     36    1\n 2611704 2020-04-04 13:09:20+00:00     36    1\n 2611703 2020-04-04 13:08:40+00:00     36    1\n 2611702 2020-04-04 13:08:00+00:00     36    1\n 2611701 2020-04-04 13:07:40+00:00     36    1\n 2611700 2020-04-04 13:07:20+00:00     36    1,\n                         timestamp  value node\n 147845  2020-04-03 16:58:00+00:00     42    1\n 1233264 2020-04-04 14:47:00+00:00     57    1\n 1233265 2020-04-04 14:47:20+00:00     58    1\n 1233266 2020-04-04 14:47:40+00:00     49    1\n 1233267 2020-04-04 14:48:00+00:00     42    1\n 1233268 2020-04-04 14:48:20+00:00     41    1\n 1233269 2020-04-04 14:48:40+00:00     39    1\n 1233270 2020-04-04 14:49:00+00:00     38    1\n 1233271 2020-04-04 14:49:20+00:00     37    1\n 1233272 2020-04-04 14:49:40+00:00     37    1,\n                         timestamp  value node\n 2146779 2020-04-01 09:37:20+00:00     35    0\n 1815501 2020-04-04 16:26:20+00:00     45    0\n 1815500 2020-04-04 16:26:00+00:00     45    0\n 1815499 2020-04-04 16:25:40+00:00     45    0\n 1815498 2020-04-04 16:25:20+00:00     45    0\n 1815497 2020-04-04 16:25:00+00:00     45    0\n 1815496 2020-04-04 16:24:40+00:00     45    0\n 1815502 2020-04-04 16:26:40+00:00     45    0\n 1815495 2020-04-04 16:24:20+00:00     45    0\n 1815493 2020-04-04 16:23:40+00:00     46    0,\n                        timestamp  value node\n 230615 2020-04-04 14:28:00+00:00     53    0\n 228764 2020-04-04 02:57:20+00:00     38    0\n 228765 2020-04-04 02:57:40+00:00     37    0\n 228766 2020-04-04 02:58:00+00:00     37    0\n 228767 2020-04-04 02:58:20+00:00     37    0\n 228768 2020-04-04 02:58:40+00:00     37    0\n 228769 2020-04-04 02:59:00+00:00     37    0\n 228763 2020-04-04 02:57:00+00:00     36    0\n 228770 2020-04-04 02:59:40+00:00     37    0\n 228772 2020-04-04 03:00:20+00:00     37    0,\n                         timestamp  value node\n 0       2020-04-03 22:00:20+00:00     42    0\n 3022824 2020-04-03 20:19:40+00:00     37    0\n 3022825 2020-04-03 20:20:00+00:00     36    0\n 3022826 2020-04-03 20:20:20+00:00     36    0\n 3022827 2020-04-03 20:20:40+00:00     36    0\n 3022828 2020-04-03 20:21:00+00:00     35    0\n 3022829 2020-04-03 20:21:40+00:00     35    0\n 3022823 2020-04-03 20:19:20+00:00     37    0\n 3022830 2020-04-03 20:22:00+00:00     36    0\n 3022832 2020-04-03 20:22:40+00:00     35    0,\n                         timestamp  value node\n 0       2020-04-01 07:20:00+00:00     37    0\n 2026391 2020-04-04 06:19:40+00:00     37    0\n 2026390 2020-04-04 06:19:20+00:00     38    0\n 2026389 2020-04-04 06:19:00+00:00     38    0\n 2026388 2020-04-04 06:18:20+00:00     38    0\n 2026387 2020-04-04 06:18:00+00:00     37    0\n 2026386 2020-04-04 06:17:40+00:00     37    0\n 2026392 2020-04-04 06:20:00+00:00     37    0\n 2026385 2020-04-04 06:17:20+00:00     38    0\n 2026383 2020-04-04 06:16:40+00:00     37    0,\n                         timestamp  value node\n 98304   2020-04-01 07:20:00+00:00     37    0\n 2426185 2020-04-04 13:14:40+00:00     36    0\n 2426186 2020-04-04 13:15:00+00:00     37    0\n 2426187 2020-04-04 13:15:20+00:00     36    0\n 2426188 2020-04-04 13:15:40+00:00     36    0\n 2426189 2020-04-04 13:16:00+00:00     37    0\n 2426190 2020-04-04 13:16:20+00:00     36    0\n 2426191 2020-04-04 13:16:40+00:00     37    0\n 2426192 2020-04-04 13:17:00+00:00     36    0\n 2426193 2020-04-04 13:17:20+00:00     37    0,\n                         timestamp  value node\n 2606755 2020-04-03 16:58:00+00:00     40    0\n 1139574 2020-04-04 14:41:00+00:00     57    0\n 1139575 2020-04-04 14:41:20+00:00     56    0\n 1139576 2020-04-04 14:41:40+00:00     56    0\n 1139577 2020-04-04 14:42:00+00:00     55    0\n 1139578 2020-04-04 14:42:20+00:00     55    0\n 1139579 2020-04-04 14:42:40+00:00     55    0\n 1139580 2020-04-04 14:43:00+00:00     55    0\n 1139581 2020-04-04 14:43:20+00:00     55    0\n 1139582 2020-04-04 14:43:40+00:00     55    0,\n                         timestamp  value node\n 1270577 2020-04-04 15:01:40+00:00     36    0\n 1269801 2020-04-04 10:13:00+00:00     58    0\n 1269800 2020-04-04 10:12:40+00:00     58    0\n 1269799 2020-04-04 10:12:20+00:00     58    0\n 1269798 2020-04-04 10:12:00+00:00     58    0\n 1269797 2020-04-04 10:11:40+00:00     58    0\n 1269796 2020-04-04 10:11:20+00:00     58    0\n 1269802 2020-04-04 10:14:00+00:00     58    0\n 1269795 2020-04-04 10:11:00+00:00     59    0\n 1269793 2020-04-04 10:10:20+00:00     58    0,\n                         timestamp  value node\n 2442153 2020-04-01 08:44:00+00:00     37    0\n 87384   2020-04-04 08:44:00+00:00     40    0\n 87385   2020-04-04 08:44:20+00:00     40    0\n 87386   2020-04-04 08:44:40+00:00     40    0\n 87387   2020-04-04 08:45:00+00:00     40    0\n 87388   2020-04-04 08:45:20+00:00     40    0\n 87389   2020-04-04 08:45:40+00:00     40    0\n 87390   2020-04-04 08:46:20+00:00     43    0\n 87391   2020-04-04 08:47:00+00:00     40    0\n 87392   2020-04-04 08:47:20+00:00     40    0,\n                        timestamp  value node\n 892177 2020-04-04 11:32:20+00:00     37    0\n 533115 2020-04-03 19:11:00+00:00     38    0\n 533116 2020-04-03 19:11:40+00:00     38    0\n 533117 2020-04-03 19:12:00+00:00     38    0\n 533118 2020-04-03 19:12:20+00:00     38    0\n 533119 2020-04-03 19:13:00+00:00     38    0\n 533120 2020-04-03 19:13:20+00:00     39    0\n 533121 2020-04-03 19:13:40+00:00     38    0\n 533122 2020-04-03 19:14:00+00:00     38    0\n 533123 2020-04-03 19:14:20+00:00     39    0,\n                         timestamp  value node\n 1367214 2020-04-03 22:18:20+00:00     42    0\n 1368036 2020-04-04 03:19:00+00:00     37    0\n 1368037 2020-04-04 03:19:40+00:00     37    0\n 1368038 2020-04-04 03:20:20+00:00     37    0\n 1368039 2020-04-04 03:21:00+00:00     37    0\n 1368040 2020-04-04 03:21:40+00:00     37    0\n 1368041 2020-04-04 03:22:00+00:00     37    0\n 1368042 2020-04-04 03:22:20+00:00     37    0\n 1368043 2020-04-04 03:22:40+00:00     37    0\n 1368044 2020-04-04 03:23:00+00:00     37    0,\n                         timestamp  value node\n 1828945 2020-04-04 01:09:40+00:00     38    0\n 1829365 2020-04-04 03:41:40+00:00     37    0\n 1829366 2020-04-04 03:42:00+00:00     37    0\n 1829367 2020-04-04 03:42:20+00:00     37    0\n 1829368 2020-04-04 03:42:40+00:00     37    0\n 1829369 2020-04-04 03:43:00+00:00     38    0\n 1829370 2020-04-04 03:43:40+00:00     37    0\n 1829371 2020-04-04 03:44:00+00:00     37    0\n 1829372 2020-04-04 03:44:20+00:00     37    0\n 1829373 2020-04-04 03:44:40+00:00     37    0,\n                        timestamp  value node\n 254757 2020-04-03 21:45:00+00:00     42    0\n 254529 2020-04-03 20:19:40+00:00     37    0\n 254530 2020-04-03 20:20:00+00:00     36    0\n 254531 2020-04-03 20:20:20+00:00     36    0\n 254532 2020-04-03 20:20:40+00:00     36    0\n 254533 2020-04-03 20:21:00+00:00     35    0\n 254534 2020-04-03 20:21:40+00:00     35    0\n 254528 2020-04-03 20:19:20+00:00     36    0\n 254535 2020-04-03 20:22:00+00:00     36    0\n 254537 2020-04-03 20:22:40+00:00     35    0,\n                        timestamp  value node\n 0      2020-04-01 07:20:00+00:00     37    0\n 466527 2020-04-04 05:45:40+00:00     38    0\n 466526 2020-04-04 05:45:20+00:00     38    0\n 466525 2020-04-04 05:45:00+00:00     38    0\n 466524 2020-04-04 05:44:20+00:00     37    0\n 466523 2020-04-04 05:44:00+00:00     37    0\n 466522 2020-04-04 05:43:40+00:00     38    0\n 466521 2020-04-04 05:43:20+00:00     37    0\n 466520 2020-04-04 05:43:00+00:00     37    0\n 466519 2020-04-04 05:42:20+00:00     37    0,\n                         timestamp  value node\n 2981893 2020-04-01 08:12:20+00:00     37    0\n 419863  2020-04-04 13:14:20+00:00     37    0\n 419862  2020-04-04 13:14:00+00:00     36    0\n 419861  2020-04-04 13:13:20+00:00     36    0\n 419860  2020-04-04 13:13:00+00:00     36    0\n 419859  2020-04-04 13:12:40+00:00     37    0\n 419858  2020-04-04 13:12:20+00:00     36    0\n 419857  2020-04-04 13:12:00+00:00     36    0\n 419856  2020-04-04 13:11:20+00:00     37    0\n 419855  2020-04-04 13:11:00+00:00     37    0,\n                         timestamp  value node\n 553084  2020-04-01 07:20:00+00:00     37    0\n 1117562 2020-04-04 11:17:40+00:00     40    0\n 1117561 2020-04-04 11:17:20+00:00     39    0\n 1117560 2020-04-04 11:17:00+00:00     39    0\n 1117559 2020-04-04 11:16:40+00:00     39    0\n 1117558 2020-04-04 11:16:20+00:00     39    0\n 1117557 2020-04-04 11:16:00+00:00     39    0\n 1117563 2020-04-04 11:18:00+00:00     39    0\n 1117556 2020-04-04 11:15:40+00:00     39    0\n 1117554 2020-04-04 11:15:00+00:00     39    0,\n                        timestamp  value node\n 0      2020-04-03 16:58:00+00:00     39    0\n 583663 2020-04-04 05:52:40+00:00     37    0\n 583662 2020-04-04 05:52:20+00:00     37    0\n 583661 2020-04-04 05:52:00+00:00     37    0\n 583660 2020-04-04 05:51:40+00:00     37    0\n 583659 2020-04-04 05:51:20+00:00     37    0\n 583658 2020-04-04 05:51:00+00:00     37    0\n 583657 2020-04-04 05:50:40+00:00     37    0\n 583656 2020-04-04 05:50:20+00:00     37    0\n 583655 2020-04-04 05:50:00+00:00     37    0]"
     },
     "execution_count": 56,
     "metadata": {},
     "output_type": "execute_result"
    }
   ],
   "source": [
    "dir_cpu_core_temp = base_dir + \"p[0-1]_core[0-9]*_temp/*\"\n",
    "# iterate through all the fan_module directories and read the parquet files\n",
    "df_cpu_core_temp = []\n",
    "files = glob.glob(fr\"{dir_cpu_core_temp}\")\n",
    "natural_sorted_files = natural_sort(files)\n",
    "for file_name in natural_sorted_files:\n",
    "    print(file_name)\n",
    "    df_temp = pq.read_table(source=file_name).to_pandas()\n",
    "    df_temp = df_temp.sort_values('node').head(number_of_rows)\n",
    "    df_cpu_core_temp.append(df_temp)\n",
    "df_cpu_core_temp"
   ],
   "metadata": {
    "collapsed": false,
    "ExecuteTime": {
     "end_time": "2023-06-29T17:44:05.190017900Z",
     "start_time": "2023-06-29T17:42:04.656106100Z"
    }
   }
  },
  {
   "cell_type": "code",
   "execution_count": 57,
   "outputs": [
    {
     "name": "stdout",
     "output_type": "stream",
     "text": [
      "Y:/Marconi100 20-04/year_month=20-04/plugin=ipmi_pub\\metric=p0_io_power\\a_0.parquet\n",
      "Y:/Marconi100 20-04/year_month=20-04/plugin=ipmi_pub\\metric=p1_io_power\\a_0.parquet\n"
     ]
    },
    {
     "data": {
      "text/plain": "[                        timestamp  value node\n 1060689 2020-04-04 07:37:00+00:00     63    0\n 3097119 2020-04-01 10:03:20+00:00     57    0\n 3097118 2020-04-01 10:03:00+00:00     57    0\n 3097117 2020-04-01 10:02:40+00:00     57    0\n 3097116 2020-04-01 10:02:20+00:00     55    0\n 3097115 2020-04-01 10:02:00+00:00     58    0\n 3097114 2020-04-01 10:01:40+00:00     57    0\n 3097120 2020-04-01 10:03:40+00:00     57    0\n 3097113 2020-04-01 10:01:20+00:00     57    0\n 3097111 2020-04-01 10:00:40+00:00     57    0,\n                        timestamp  value node\n 655475 2020-04-04 03:35:40+00:00     50    0\n 656270 2020-04-04 08:27:00+00:00     50    0\n 656271 2020-04-04 08:27:20+00:00     51    0\n 656272 2020-04-04 08:27:40+00:00     51    0\n 656273 2020-04-04 08:28:00+00:00     51    0\n 656274 2020-04-04 08:28:20+00:00     51    0\n 656275 2020-04-04 08:28:40+00:00     51    0\n 656276 2020-04-04 08:29:00+00:00     51    0\n 656277 2020-04-04 08:29:40+00:00     51    0\n 656278 2020-04-04 08:30:00+00:00     51    0]"
     },
     "execution_count": 57,
     "metadata": {},
     "output_type": "execute_result"
    }
   ],
   "source": [
    "dir_io_power = base_dir + \"*_io_power/*\"\n",
    "files = glob.glob(dir_io_power)\n",
    "natural_sorted_files = natural_sort(files)\n",
    "df_io_power = []\n",
    "for file_name in natural_sorted_files:\n",
    "    print(file_name)\n",
    "    df_temp = pq.read_table(source=file_name).to_pandas()\n",
    "    df_temp = df_temp.sort_values('node').head(number_of_rows)\n",
    "    df_io_power.append(df_temp)\n",
    "df_io_power"
   ],
   "metadata": {
    "collapsed": false,
    "ExecuteTime": {
     "end_time": "2023-06-29T17:44:19.559774100Z",
     "start_time": "2023-06-29T17:44:08.919414300Z"
    }
   }
  },
  {
   "cell_type": "code",
   "execution_count": 58,
   "outputs": [
    {
     "name": "stdout",
     "output_type": "stream",
     "text": [
      "Y:/Marconi100 20-04/year_month=20-04/plugin=ipmi_pub\\metric=p0_mem_power\\a_0.parquet\n",
      "Y:/Marconi100 20-04/year_month=20-04/plugin=ipmi_pub\\metric=p1_mem_power\\a_0.parquet\n"
     ]
    },
    {
     "data": {
      "text/plain": "[                        timestamp  value node\n 622750  2020-04-03 22:00:20+00:00     18    0\n 2912835 2020-04-03 21:34:20+00:00     18    0\n 2912836 2020-04-03 21:34:40+00:00     18    0\n 2912837 2020-04-03 21:35:00+00:00     18    0\n 2912838 2020-04-03 21:35:20+00:00     18    0\n 2912839 2020-04-03 21:35:40+00:00     18    0\n 2912840 2020-04-03 21:36:20+00:00     18    0\n 2912834 2020-04-03 21:34:00+00:00     18    0\n 2912841 2020-04-03 21:37:00+00:00     18    0\n 2912843 2020-04-03 21:37:40+00:00     18    0,\n                         timestamp  value node\n 98775   2020-04-01 09:57:00+00:00     18    0\n 3873926 2020-04-03 21:30:00+00:00     18    0\n 3873927 2020-04-03 21:30:20+00:00     18    0\n 3873928 2020-04-03 21:31:00+00:00     18    0\n 3873929 2020-04-03 21:31:20+00:00     18    0\n 3873930 2020-04-03 21:31:40+00:00     18    0\n 3873931 2020-04-03 21:32:00+00:00     18    0\n 3873925 2020-04-03 21:29:40+00:00     18    0\n 3873932 2020-04-03 21:32:20+00:00     18    0\n 3873934 2020-04-03 21:33:20+00:00     18    0]"
     },
     "execution_count": 58,
     "metadata": {},
     "output_type": "execute_result"
    }
   ],
   "source": [
    "dir_mem_power = base_dir + \"*_mem_power/*\"\n",
    "files = glob.glob(dir_mem_power)\n",
    "natural_sorted_files = natural_sort(files)\n",
    "df_mem_power = []\n",
    "for file_name in natural_sorted_files:\n",
    "    print(file_name)\n",
    "    df_temp = pq.read_table(source=file_name).to_pandas()\n",
    "    df_temp = df_temp.sort_values('node').head(number_of_rows)\n",
    "    df_mem_power.append(df_temp)\n",
    "df_mem_power"
   ],
   "metadata": {
    "collapsed": false,
    "ExecuteTime": {
     "end_time": "2023-06-29T17:44:31.749890400Z",
     "start_time": "2023-06-29T17:44:22.289699400Z"
    }
   }
  },
  {
   "cell_type": "code",
   "execution_count": 59,
   "outputs": [
    {
     "name": "stdout",
     "output_type": "stream",
     "text": [
      "Y:/Marconi100 20-04/year_month=20-04/plugin=ipmi_pub\\metric=p0_power\\a_0.parquet\n",
      "Y:/Marconi100 20-04/year_month=20-04/plugin=ipmi_pub\\metric=p1_power\\a_0.parquet\n"
     ]
    },
    {
     "data": {
      "text/plain": "[                        timestamp  value node\n 1491420 2020-04-04 03:09:40+00:00     36    0\n 1492732 2020-04-04 11:16:20+00:00     36    0\n 1492733 2020-04-04 11:16:40+00:00     36    0\n 1492734 2020-04-04 11:17:00+00:00     36    0\n 1492735 2020-04-04 11:17:20+00:00     36    0\n 1492736 2020-04-04 11:17:40+00:00     36    0\n 1492737 2020-04-04 11:18:00+00:00     36    0\n 1492738 2020-04-04 11:18:20+00:00     36    0\n 1492739 2020-04-04 11:18:40+00:00     36    0\n 1492740 2020-04-04 11:19:00+00:00     36    0,\n                        timestamp  value node\n 521344 2020-04-03 22:00:20+00:00     24    0\n 522800 2020-04-04 06:55:00+00:00    128    0\n 522799 2020-04-04 06:54:40+00:00    128    0\n 522798 2020-04-04 06:54:20+00:00    128    0\n 522797 2020-04-04 06:54:00+00:00    128    0\n 522796 2020-04-04 06:53:40+00:00    128    0\n 522795 2020-04-04 06:53:00+00:00    128    0\n 522794 2020-04-04 06:52:40+00:00    128    0\n 522793 2020-04-04 06:52:20+00:00    126    0\n 522792 2020-04-04 06:51:40+00:00    126    0]"
     },
     "execution_count": 59,
     "metadata": {},
     "output_type": "execute_result"
    }
   ],
   "source": [
    "dir_cpu_power = base_dir + \"*[0-2]_power/*\"\n",
    "files = glob.glob(dir_cpu_power)\n",
    "natural_sorted_files = natural_sort(files)\n",
    "df_cpu_power = []\n",
    "for file_name in natural_sorted_files:\n",
    "    print(file_name)\n",
    "    df_temp = pq.read_table(source=file_name).to_pandas()\n",
    "    df_temp = df_temp.sort_values('node').head(number_of_rows)\n",
    "    df_cpu_power.append(df_temp)\n",
    "df_cpu_power"
   ],
   "metadata": {
    "collapsed": false,
    "ExecuteTime": {
     "end_time": "2023-06-29T17:44:44.914682500Z",
     "start_time": "2023-06-29T17:44:35.119754600Z"
    }
   }
  },
  {
   "cell_type": "code",
   "execution_count": 60,
   "outputs": [
    {
     "name": "stdout",
     "output_type": "stream",
     "text": [
      "Y:/Marconi100 20-04/year_month=20-04/plugin=ipmi_pub\\metric=p0_vdd_temp\\a_0.parquet\n",
      "Y:/Marconi100 20-04/year_month=20-04/plugin=ipmi_pub\\metric=p1_vdd_temp\\a_0.parquet\n"
     ]
    },
    {
     "data": {
      "text/plain": "[                        timestamp  value node\n 1290261 2020-04-03 22:00:20+00:00     34    0\n 2869820 2020-04-01 08:53:00+00:00     31    0\n 2869819 2020-04-01 08:52:40+00:00     31    0\n 2869818 2020-04-01 08:52:20+00:00     31    0\n 2869817 2020-04-01 08:52:00+00:00     31    0\n 2869816 2020-04-01 08:51:40+00:00     31    0\n 2869815 2020-04-01 08:51:20+00:00     31    0\n 2869814 2020-04-01 08:51:00+00:00     31    0\n 2869813 2020-04-01 08:50:40+00:00     31    0\n 2869812 2020-04-01 08:50:20+00:00     31    0,\n                         timestamp  value node\n 3687390 2020-04-03 20:27:20+00:00     27    0\n 1150513 2020-04-04 10:09:00+00:00     38    0\n 1150514 2020-04-04 10:09:20+00:00     40    0\n 1150515 2020-04-04 10:09:40+00:00     38    0\n 1150516 2020-04-04 10:10:00+00:00     38    0\n 1150517 2020-04-04 10:10:20+00:00     39    0\n 1150518 2020-04-04 10:10:40+00:00     39    0\n 1150519 2020-04-04 10:11:00+00:00     38    0\n 1150520 2020-04-04 10:11:20+00:00     38    0\n 1150521 2020-04-04 10:11:40+00:00     38    0]"
     },
     "execution_count": 60,
     "metadata": {},
     "output_type": "execute_result"
    }
   ],
   "source": [
    "dir_cpu_vdd_temp = base_dir + \"*[0-2]_vdd_temp/*\"\n",
    "files = glob.glob(dir_cpu_vdd_temp)\n",
    "natural_sorted_files = natural_sort(files)\n",
    "df_cpu_vdd_temp = []\n",
    "for file_name in natural_sorted_files:\n",
    "    print(file_name)\n",
    "    df_temp = pq.read_table(source=file_name).to_pandas()\n",
    "    df_temp = df_temp.sort_values('node').head(number_of_rows)\n",
    "    df_cpu_vdd_temp.append(df_temp)\n",
    "df_cpu_vdd_temp"
   ],
   "metadata": {
    "collapsed": false,
    "ExecuteTime": {
     "end_time": "2023-06-29T17:44:55.264858600Z",
     "start_time": "2023-06-29T17:44:45.920098200Z"
    }
   }
  },
  {
   "cell_type": "code",
   "execution_count": 62,
   "outputs": [
    {
     "data": {
      "text/plain": "                        timestamp      value node year_month    plugin metric\n2244572 2020-04-01 07:20:00+00:00  35.700001    0      20-04  ipmi_pub   pcie\n113033  2020-04-04 05:59:00+00:00  36.000000    0      20-04  ipmi_pub   pcie\n113032  2020-04-04 05:58:40+00:00  36.000000    0      20-04  ipmi_pub   pcie\n113031  2020-04-04 05:58:20+00:00  36.000000    0      20-04  ipmi_pub   pcie\n113030  2020-04-04 05:58:00+00:00  36.000000    0      20-04  ipmi_pub   pcie\n113029  2020-04-04 05:57:40+00:00  36.000000    0      20-04  ipmi_pub   pcie\n113028  2020-04-04 05:57:20+00:00  36.000000    0      20-04  ipmi_pub   pcie\n113027  2020-04-04 05:57:00+00:00  36.000000    0      20-04  ipmi_pub   pcie\n113026  2020-04-04 05:56:40+00:00  36.000000    0      20-04  ipmi_pub   pcie\n113025  2020-04-04 05:56:20+00:00  36.000000    0      20-04  ipmi_pub   pcie",
      "text/html": "<div>\n<style scoped>\n    .dataframe tbody tr th:only-of-type {\n        vertical-align: middle;\n    }\n\n    .dataframe tbody tr th {\n        vertical-align: top;\n    }\n\n    .dataframe thead th {\n        text-align: right;\n    }\n</style>\n<table border=\"1\" class=\"dataframe\">\n  <thead>\n    <tr style=\"text-align: right;\">\n      <th></th>\n      <th>timestamp</th>\n      <th>value</th>\n      <th>node</th>\n      <th>year_month</th>\n      <th>plugin</th>\n      <th>metric</th>\n    </tr>\n  </thead>\n  <tbody>\n    <tr>\n      <th>2244572</th>\n      <td>2020-04-01 07:20:00+00:00</td>\n      <td>35.700001</td>\n      <td>0</td>\n      <td>20-04</td>\n      <td>ipmi_pub</td>\n      <td>pcie</td>\n    </tr>\n    <tr>\n      <th>113033</th>\n      <td>2020-04-04 05:59:00+00:00</td>\n      <td>36.000000</td>\n      <td>0</td>\n      <td>20-04</td>\n      <td>ipmi_pub</td>\n      <td>pcie</td>\n    </tr>\n    <tr>\n      <th>113032</th>\n      <td>2020-04-04 05:58:40+00:00</td>\n      <td>36.000000</td>\n      <td>0</td>\n      <td>20-04</td>\n      <td>ipmi_pub</td>\n      <td>pcie</td>\n    </tr>\n    <tr>\n      <th>113031</th>\n      <td>2020-04-04 05:58:20+00:00</td>\n      <td>36.000000</td>\n      <td>0</td>\n      <td>20-04</td>\n      <td>ipmi_pub</td>\n      <td>pcie</td>\n    </tr>\n    <tr>\n      <th>113030</th>\n      <td>2020-04-04 05:58:00+00:00</td>\n      <td>36.000000</td>\n      <td>0</td>\n      <td>20-04</td>\n      <td>ipmi_pub</td>\n      <td>pcie</td>\n    </tr>\n    <tr>\n      <th>113029</th>\n      <td>2020-04-04 05:57:40+00:00</td>\n      <td>36.000000</td>\n      <td>0</td>\n      <td>20-04</td>\n      <td>ipmi_pub</td>\n      <td>pcie</td>\n    </tr>\n    <tr>\n      <th>113028</th>\n      <td>2020-04-04 05:57:20+00:00</td>\n      <td>36.000000</td>\n      <td>0</td>\n      <td>20-04</td>\n      <td>ipmi_pub</td>\n      <td>pcie</td>\n    </tr>\n    <tr>\n      <th>113027</th>\n      <td>2020-04-04 05:57:00+00:00</td>\n      <td>36.000000</td>\n      <td>0</td>\n      <td>20-04</td>\n      <td>ipmi_pub</td>\n      <td>pcie</td>\n    </tr>\n    <tr>\n      <th>113026</th>\n      <td>2020-04-04 05:56:40+00:00</td>\n      <td>36.000000</td>\n      <td>0</td>\n      <td>20-04</td>\n      <td>ipmi_pub</td>\n      <td>pcie</td>\n    </tr>\n    <tr>\n      <th>113025</th>\n      <td>2020-04-04 05:56:20+00:00</td>\n      <td>36.000000</td>\n      <td>0</td>\n      <td>20-04</td>\n      <td>ipmi_pub</td>\n      <td>pcie</td>\n    </tr>\n  </tbody>\n</table>\n</div>"
     },
     "execution_count": 62,
     "metadata": {},
     "output_type": "execute_result"
    }
   ],
   "source": [
    "dir_pcie = base_dir + \"pcie/*\"\n",
    "file_pcie = glob.glob(dir_pcie)\n",
    "df_pcie = pq.read_table(source=file_pcie).to_pandas()\n",
    "df_pcie = df_pcie.sort_values('node').head(number_of_rows)\n",
    "df_pcie"
   ],
   "metadata": {
    "collapsed": false,
    "ExecuteTime": {
     "end_time": "2023-06-29T17:48:12.100863300Z",
     "start_time": "2023-06-29T17:48:06.510065800Z"
    }
   }
  },
  {
   "cell_type": "code",
   "execution_count": 63,
   "outputs": [
    {
     "name": "stdout",
     "output_type": "stream",
     "text": [
      "Y:/Marconi100 20-04/year_month=20-04/plugin=ipmi_pub\\metric=ps0_input_power\\a_0.parquet\n",
      "Y:/Marconi100 20-04/year_month=20-04/plugin=ipmi_pub\\metric=ps1_input_power\\a_0.parquet\n"
     ]
    },
    {
     "data": {
      "text/plain": "[                        timestamp  value node\n 2615469 2020-04-04 14:11:20+00:00    870    0\n 2613847 2020-04-04 04:07:40+00:00    240    0\n 2613846 2020-04-04 04:07:20+00:00    240    0\n 2613845 2020-04-04 04:07:00+00:00    240    0\n 2613844 2020-04-04 04:06:40+00:00    240    0\n 2613843 2020-04-04 04:06:20+00:00    240    0\n 2613842 2020-04-04 04:06:00+00:00    240    0\n 2613841 2020-04-04 04:05:40+00:00    240    0\n 2613840 2020-04-04 04:05:20+00:00    240    0\n 2613839 2020-04-04 04:05:00+00:00    240    0,\n                        timestamp  value node\n 689212 2020-04-01 13:23:20+00:00    290    0\n 688443 2020-04-01 09:05:00+00:00    290    0\n 688442 2020-04-01 09:04:40+00:00    290    0\n 688441 2020-04-01 09:04:20+00:00    290    0\n 688440 2020-04-01 09:04:00+00:00    280    0\n 688439 2020-04-01 09:03:40+00:00    290    0\n 688438 2020-04-01 09:03:20+00:00    290    0\n 688437 2020-04-01 09:03:00+00:00    290    0\n 688436 2020-04-01 09:02:40+00:00    290    0\n 688435 2020-04-01 09:02:20+00:00    290    0]"
     },
     "execution_count": 63,
     "metadata": {},
     "output_type": "execute_result"
    }
   ],
   "source": [
    "dir_power_supply_input_power = base_dir + \"*_input_power/*\"\n",
    "files = glob.glob(dir_power_supply_input_power)\n",
    "natural_sorted_files = natural_sort(files)\n",
    "df_power_supply_input_power = []\n",
    "for file_name in natural_sorted_files:\n",
    "    print(file_name)\n",
    "    df_temp = pq.read_table(source=file_name).to_pandas()\n",
    "    df_temp = df_temp.sort_values('node').head(number_of_rows)\n",
    "    df_power_supply_input_power.append(df_temp)\n",
    "df_power_supply_input_power"
   ],
   "metadata": {
    "collapsed": false,
    "ExecuteTime": {
     "end_time": "2023-06-29T17:48:25.304867900Z",
     "start_time": "2023-06-29T17:48:17.399968600Z"
    }
   }
  },
  {
   "cell_type": "code",
   "execution_count": 64,
   "outputs": [
    {
     "name": "stdout",
     "output_type": "stream",
     "text": [
      "Y:/Marconi100 20-04/year_month=20-04/plugin=ipmi_pub\\metric=ps0_input_voltag\\a_0.parquet\n",
      "Y:/Marconi100 20-04/year_month=20-04/plugin=ipmi_pub\\metric=ps1_input_voltag\\a_0.parquet\n"
     ]
    },
    {
     "data": {
      "text/plain": "[                       timestamp  value node\n 38353  2020-04-03 20:48:00+00:00    230    0\n 353373 2020-04-04 11:26:40+00:00    230    0\n 353372 2020-04-04 11:26:20+00:00    230    0\n 353371 2020-04-04 11:26:00+00:00    230    0\n 353370 2020-04-04 11:25:40+00:00    230    0\n 353369 2020-04-04 11:25:00+00:00    228    0\n 353368 2020-04-04 11:24:40+00:00    230    0\n 353367 2020-04-04 11:24:20+00:00    228    0\n 353366 2020-04-04 11:24:00+00:00    230    0\n 353365 2020-04-04 11:23:40+00:00    230    0,\n                         timestamp  value node\n 2618712 2020-04-04 02:31:20+00:00    228    0\n 1259527 2020-04-01 13:07:20+00:00    230    0\n 1259526 2020-04-01 13:07:00+00:00    230    0\n 1259525 2020-04-01 13:06:40+00:00    230    0\n 1259524 2020-04-01 13:06:20+00:00    230    0\n 1259523 2020-04-01 13:06:00+00:00    230    0\n 1259522 2020-04-01 13:05:40+00:00    230    0\n 1259521 2020-04-01 13:05:20+00:00    230    0\n 1259520 2020-04-01 13:05:00+00:00    230    0\n 1259519 2020-04-01 13:04:40+00:00    230    0]"
     },
     "execution_count": 64,
     "metadata": {},
     "output_type": "execute_result"
    }
   ],
   "source": [
    "dir_power_supply_input_voltage = base_dir + \"*_input_voltag/*\"\n",
    "files = glob.glob(dir_power_supply_input_voltage)\n",
    "natural_sorted_files = natural_sort(files)\n",
    "df_power_supply_input_voltage = []\n",
    "for file_name in natural_sorted_files:\n",
    "    print(file_name)\n",
    "    df_temp = pq.read_table(source=file_name).to_pandas()\n",
    "    df_temp = df_temp.sort_values('node').head(number_of_rows)\n",
    "    df_power_supply_input_voltage.append(df_temp)\n",
    "df_power_supply_input_voltage"
   ],
   "metadata": {
    "collapsed": false,
    "ExecuteTime": {
     "end_time": "2023-06-29T17:48:37.719926900Z",
     "start_time": "2023-06-29T17:48:28.264537Z"
    }
   }
  },
  {
   "cell_type": "code",
   "execution_count": 65,
   "outputs": [
    {
     "name": "stdout",
     "output_type": "stream",
     "text": [
      "Y:/Marconi100 20-04/year_month=20-04/plugin=ipmi_pub\\metric=ps0_output_curre\\a_0.parquet\n",
      "Y:/Marconi100 20-04/year_month=20-04/plugin=ipmi_pub\\metric=ps1_output_curre\\a_0.parquet\n"
     ]
    },
    {
     "data": {
      "text/plain": "[                        timestamp  value node\n 165869  2020-04-04 10:31:00+00:00     16    0\n 1096777 2020-04-01 09:05:20+00:00     14    0\n 1096776 2020-04-01 09:05:00+00:00     16    0\n 1096775 2020-04-01 09:04:40+00:00     15    0\n 1096774 2020-04-01 09:04:20+00:00     16    0\n 1096773 2020-04-01 09:04:00+00:00     15    0\n 1096772 2020-04-01 09:03:40+00:00     13    0\n 1096771 2020-04-01 09:03:20+00:00     17    0\n 1096770 2020-04-01 09:03:00+00:00     18    0\n 1096769 2020-04-01 09:02:40+00:00     14    0,\n                        timestamp  value node\n 402479 2020-04-04 03:21:40+00:00     20    0\n 404324 2020-04-04 14:46:20+00:00     67    0\n 404325 2020-04-04 14:46:40+00:00     67    0\n 404326 2020-04-04 14:47:00+00:00     67    0\n 404327 2020-04-04 14:47:20+00:00     67    0\n 404328 2020-04-04 14:47:40+00:00     21    0\n 404329 2020-04-04 14:48:00+00:00     22    0\n 404330 2020-04-04 14:48:40+00:00     23    0\n 404331 2020-04-04 14:49:20+00:00     20    0\n 404332 2020-04-04 14:49:40+00:00     21    0]"
     },
     "execution_count": 65,
     "metadata": {},
     "output_type": "execute_result"
    }
   ],
   "source": [
    "dir_power_supply_output_current = base_dir + \"*_output_curre/*\"\n",
    "files = glob.glob(dir_power_supply_output_current)\n",
    "natural_sorted_files = natural_sort(files)\n",
    "df_power_supply_output_current = []\n",
    "for file_name in natural_sorted_files:\n",
    "    print(file_name)\n",
    "    df_temp = pq.read_table(source=file_name).to_pandas()\n",
    "    df_temp = df_temp.sort_values('node').head(number_of_rows)\n",
    "    df_power_supply_output_current.append(df_temp)\n",
    "df_power_supply_output_current"
   ],
   "metadata": {
    "collapsed": false,
    "ExecuteTime": {
     "end_time": "2023-06-29T17:48:49.589697600Z",
     "start_time": "2023-06-29T17:48:39.420555100Z"
    }
   }
  },
  {
   "cell_type": "code",
   "execution_count": 66,
   "outputs": [
    {
     "name": "stdout",
     "output_type": "stream",
     "text": [
      "Y:/Marconi100 20-04/year_month=20-04/plugin=ipmi_pub\\metric=ps0_output_volta\\a_0.parquet\n",
      "Y:/Marconi100 20-04/year_month=20-04/plugin=ipmi_pub\\metric=ps1_output_volta\\a_0.parquet\n"
     ]
    },
    {
     "data": {
      "text/plain": "[                        timestamp  value node\n 2103509 2020-04-03 20:58:00+00:00   12.4    0\n 1319168 2020-04-04 09:52:00+00:00   12.2    0\n 1319167 2020-04-04 09:51:40+00:00   12.2    0\n 1319166 2020-04-04 09:51:20+00:00   12.2    0\n 1319165 2020-04-04 09:51:00+00:00   12.2    0\n 1319164 2020-04-04 09:50:40+00:00   12.2    0\n 1319163 2020-04-04 09:50:20+00:00   12.2    0\n 1319162 2020-04-04 09:50:00+00:00   12.2    0\n 1319161 2020-04-04 09:49:40+00:00   12.2    0\n 1319160 2020-04-04 09:49:20+00:00   12.2    0,\n                         timestamp  value node\n 4366195 2020-04-01 07:20:00+00:00   12.4    0\n 1310120 2020-04-04 08:00:40+00:00   12.1    0\n 1310121 2020-04-04 08:01:00+00:00   12.2    0\n 1310122 2020-04-04 08:01:20+00:00   12.2    0\n 1310123 2020-04-04 08:01:40+00:00   12.2    0\n 1310124 2020-04-04 08:02:00+00:00   12.2    0\n 1310125 2020-04-04 08:02:20+00:00   12.2    0\n 1310126 2020-04-04 08:03:00+00:00   12.2    0\n 1310127 2020-04-04 08:03:20+00:00   12.1    0\n 1310128 2020-04-04 08:03:40+00:00   12.2    0]"
     },
     "execution_count": 66,
     "metadata": {},
     "output_type": "execute_result"
    }
   ],
   "source": [
    "dir_power_supply_output_voltage = base_dir + \"*_output_volta/*\"\n",
    "files = glob.glob(dir_power_supply_output_voltage)\n",
    "natural_sorted_files = natural_sort(files)\n",
    "df_power_supply_output_voltage = []\n",
    "for file_name in natural_sorted_files:\n",
    "    print(file_name)\n",
    "    df_temp = pq.read_table(source=file_name).to_pandas()\n",
    "    df_temp = df_temp.sort_values('node').head(number_of_rows)\n",
    "    df_power_supply_output_voltage.append(df_temp)\n",
    "df_power_supply_output_voltage"
   ],
   "metadata": {
    "collapsed": false,
    "ExecuteTime": {
     "end_time": "2023-06-29T17:49:01.759871100Z",
     "start_time": "2023-06-29T17:48:51.889938100Z"
    }
   }
  },
  {
   "cell_type": "code",
   "execution_count": 67,
   "outputs": [
    {
     "data": {
      "text/plain": "                        timestamp  value node year_month    plugin  \\\n0       2020-04-01 07:20:00+00:00    440    0      20-04  ipmi_pub   \n1481235 2020-04-04 11:17:40+00:00    440    0      20-04  ipmi_pub   \n1481234 2020-04-04 11:17:20+00:00    440    0      20-04  ipmi_pub   \n1481233 2020-04-04 11:17:00+00:00    440    0      20-04  ipmi_pub   \n1481232 2020-04-04 11:16:40+00:00    440    0      20-04  ipmi_pub   \n1481231 2020-04-04 11:16:20+00:00    440    0      20-04  ipmi_pub   \n1481230 2020-04-04 11:16:00+00:00    440    0      20-04  ipmi_pub   \n1481236 2020-04-04 11:18:00+00:00    440    0      20-04  ipmi_pub   \n1481229 2020-04-04 11:15:40+00:00    440    0      20-04  ipmi_pub   \n1481227 2020-04-04 11:15:00+00:00    440    0      20-04  ipmi_pub   \n\n              metric  \n0        total_power  \n1481235  total_power  \n1481234  total_power  \n1481233  total_power  \n1481232  total_power  \n1481231  total_power  \n1481230  total_power  \n1481236  total_power  \n1481229  total_power  \n1481227  total_power  ",
      "text/html": "<div>\n<style scoped>\n    .dataframe tbody tr th:only-of-type {\n        vertical-align: middle;\n    }\n\n    .dataframe tbody tr th {\n        vertical-align: top;\n    }\n\n    .dataframe thead th {\n        text-align: right;\n    }\n</style>\n<table border=\"1\" class=\"dataframe\">\n  <thead>\n    <tr style=\"text-align: right;\">\n      <th></th>\n      <th>timestamp</th>\n      <th>value</th>\n      <th>node</th>\n      <th>year_month</th>\n      <th>plugin</th>\n      <th>metric</th>\n    </tr>\n  </thead>\n  <tbody>\n    <tr>\n      <th>0</th>\n      <td>2020-04-01 07:20:00+00:00</td>\n      <td>440</td>\n      <td>0</td>\n      <td>20-04</td>\n      <td>ipmi_pub</td>\n      <td>total_power</td>\n    </tr>\n    <tr>\n      <th>1481235</th>\n      <td>2020-04-04 11:17:40+00:00</td>\n      <td>440</td>\n      <td>0</td>\n      <td>20-04</td>\n      <td>ipmi_pub</td>\n      <td>total_power</td>\n    </tr>\n    <tr>\n      <th>1481234</th>\n      <td>2020-04-04 11:17:20+00:00</td>\n      <td>440</td>\n      <td>0</td>\n      <td>20-04</td>\n      <td>ipmi_pub</td>\n      <td>total_power</td>\n    </tr>\n    <tr>\n      <th>1481233</th>\n      <td>2020-04-04 11:17:00+00:00</td>\n      <td>440</td>\n      <td>0</td>\n      <td>20-04</td>\n      <td>ipmi_pub</td>\n      <td>total_power</td>\n    </tr>\n    <tr>\n      <th>1481232</th>\n      <td>2020-04-04 11:16:40+00:00</td>\n      <td>440</td>\n      <td>0</td>\n      <td>20-04</td>\n      <td>ipmi_pub</td>\n      <td>total_power</td>\n    </tr>\n    <tr>\n      <th>1481231</th>\n      <td>2020-04-04 11:16:20+00:00</td>\n      <td>440</td>\n      <td>0</td>\n      <td>20-04</td>\n      <td>ipmi_pub</td>\n      <td>total_power</td>\n    </tr>\n    <tr>\n      <th>1481230</th>\n      <td>2020-04-04 11:16:00+00:00</td>\n      <td>440</td>\n      <td>0</td>\n      <td>20-04</td>\n      <td>ipmi_pub</td>\n      <td>total_power</td>\n    </tr>\n    <tr>\n      <th>1481236</th>\n      <td>2020-04-04 11:18:00+00:00</td>\n      <td>440</td>\n      <td>0</td>\n      <td>20-04</td>\n      <td>ipmi_pub</td>\n      <td>total_power</td>\n    </tr>\n    <tr>\n      <th>1481229</th>\n      <td>2020-04-04 11:15:40+00:00</td>\n      <td>440</td>\n      <td>0</td>\n      <td>20-04</td>\n      <td>ipmi_pub</td>\n      <td>total_power</td>\n    </tr>\n    <tr>\n      <th>1481227</th>\n      <td>2020-04-04 11:15:00+00:00</td>\n      <td>440</td>\n      <td>0</td>\n      <td>20-04</td>\n      <td>ipmi_pub</td>\n      <td>total_power</td>\n    </tr>\n  </tbody>\n</table>\n</div>"
     },
     "execution_count": 67,
     "metadata": {},
     "output_type": "execute_result"
    }
   ],
   "source": [
    "dir_total_power = base_dir + \"total_power/*\"\n",
    "file_total_power = glob.glob(dir_total_power)\n",
    "df_total_power = pq.read_table(source=file_total_power).to_pandas()\n",
    "df_total_power = df_total_power.sort_values('node').head(number_of_rows)\n",
    "df_total_power"
   ],
   "metadata": {
    "collapsed": false,
    "ExecuteTime": {
     "end_time": "2023-06-29T17:49:17.985988900Z",
     "start_time": "2023-06-29T17:49:11.089926600Z"
    }
   }
  },
  {
   "cell_type": "code",
   "execution_count": 23,
   "outputs": [],
   "source": [
    "# Now that all top 10 values (sorted by hosts) for distinct data frames are available, we need to build an ontology creating a relationship for the same\n",
    "# We need to use human-based reasoning for creating the ontology, and we will re-use a popular existing HPC ontology to avoid the re-work\n",
    "# HPC Ontology source - https://hpc-fair.github.io/ontology/"
   ],
   "metadata": {
    "collapsed": false
   }
  },
  {
   "cell_type": "code",
   "execution_count": 17,
   "outputs": [],
   "source": [
    "# Semantic Representation Idea taken from the literature \"An Ontological Representation of Time Series Observations on the Semantic Sensor Web\"\n",
    "# source link - https://www.semanticscholar.org/paper/An-Ontological-Representation-of-Time-Series-on-the-Henson-Neuhaus/d753cb196176dfe81dbac8617da914f5b1c689a0\n",
    "# OWL2 Python reference - \"Ontologies with Python\" book\n",
    "# Programming OWL 2.0 Ontologies with Python and Owlready2 -> https://link.springer.com/book/10.1007/978-1-4842-6552-9"
   ],
   "metadata": {
    "collapsed": false,
    "ExecuteTime": {
     "end_time": "2023-06-26T14:23:07.991406Z",
     "start_time": "2023-06-26T14:23:07.925994Z"
    }
   }
  },
  {
   "cell_type": "code",
   "execution_count": 115,
   "outputs": [],
   "source": [
    "onto = get_ontology(\"https://example.org/hpcontology_cineca.owl#\")\n",
    "with onto:\n",
    "    class Hardware(Thing): pass\n",
    "    class Computer(Hardware): pass\n",
    "    class Server(Computer): pass\n",
    "    class Processor(Hardware): pass\n",
    "    class CPU(Processor): pass\n",
    "    class Coprocessor(Processor): pass\n",
    "    class Accelerator(Coprocessor): pass\n",
    "    class GPU(Accelerator): pass\n",
    "    class Memory(Hardware): pass\n",
    "    # class Value(Thing): pass"
   ],
   "metadata": {
    "collapsed": false,
    "ExecuteTime": {
     "end_time": "2023-06-29T19:27:30.070336600Z",
     "start_time": "2023-06-29T19:27:30.025338500Z"
    }
   }
  },
  {
   "cell_type": "code",
   "execution_count": 116,
   "outputs": [],
   "source": [
    "onto = get_ontology(\"https://example.org/hpcontology_cineca.owl#\")\n",
    "with onto:\n",
    "    class hasMember(Server >> Thing) : pass\n",
    "    class memberOf(Thing >> Server) :\n",
    "        inverse = hasMember\n",
    "    class member(ObjectProperty):\n",
    "        domain = [Server]\n",
    "        range = [Thing]\n",
    "        equivalent_to = [hasMember]\n",
    "        inverse = memberOf\n",
    "    # refer to this source for knowing more about time-series modelling in owl - https://docs.ogc.org/is/15-043r3/15-043r3.html#16\n",
    "    # class Component(Thing): pass\n",
    "    # class hasComponent(Server >> Component): pass\n",
    "    class Feature(Thing): pass\n",
    "    class featureOfInterest(Server >> Feature): pass\n",
    "    # declaring various types of measurements collected in IPMI interface\n",
    "    class IPMIProperty(Thing): pass\n",
    "    class Temperature(IPMIProperty): pass # new conceptualisation\n",
    "    class Speed(IPMIProperty): pass # new conceptualisation\n",
    "    class Power(IPMIProperty): pass # new conceptualisation\n",
    "    class Voltage(IPMIProperty): pass # new conceptualisation\n",
    "    class Current(IPMIProperty): pass # new conceptualisation\n",
    "    class NVIDIAQuadroGV100Card(IPMIProperty): pass # new conceptualisation\n",
    "    AllDisjoint([Temperature, Speed, Power, NVIDIAQuadroGV100Card, Voltage, Current])\n",
    "\n",
    "    class Organization(Thing): pass\n",
    "    class Company(Organization): pass\n",
    "    class NVIDIA(Company): pass\n",
    "\n",
    "    class isInfluencedBy(Organization >> Thing): pass\n",
    "    # class isAssociatedWith(isInfluencedBy): pass\n",
    "    class isAssociatedWith(isInfluencedBy):\n",
    "        domain = [Organization]\n",
    "        range = [Thing]\n",
    "    NVIDIA.isAssociatedWith = NVIDIAQuadroGV100Card\n",
    "\n",
    "    class observedProperty(Feature >> IPMIProperty): pass\n",
    "    class generatedAtTime(Thing >> datetime.datetime): pass"
   ],
   "metadata": {
    "collapsed": false,
    "ExecuteTime": {
     "end_time": "2023-06-29T19:27:30.561789100Z",
     "start_time": "2023-06-29T19:27:30.526793400Z"
    }
   }
  },
  {
   "cell_type": "code",
   "execution_count": 117,
   "outputs": [],
   "source": [
    "# Iterate through the corresponding metric's data-frame and create OWL2 individuals accordingly\n",
    "# we are considering only first-row elements in this case, but this idea can be extended for the remaining elements of the dataframe\n",
    "# Instance of Node for Ambient metric\n",
    "onto = get_ontology(\"https://example.org/hpcontology_cineca.owl#\")\n",
    "with onto:\n",
    "    class ServerInlet(Feature): pass\n",
    "    class hasTemperatureValue(Feature >> float): pass\n",
    "    individual = Server(int(df_ambient['node'].iloc[0]))\n",
    "    # serverInlet = ServerInlet()\n",
    "    individual.featureOfInterest.append(ServerInlet)\n",
    "    temperature = Temperature()\n",
    "    ServerInlet.observedProperty.append(temperature)\n",
    "    value = float(df_ambient['value'].iloc[0])\n",
    "    temperature.hasTemperatureValue.append(value)\n",
    "    now = df_ambient['timestamp'].iloc[0].to_pydatetime()\n",
    "    temperature.generatedAtTime.append(now)\n",
    "    temperature.label.append(\"Measured in °C, and has floating-point values\")\n",
    "    temperature.comment = [\"Sampled every 20s (per node)\"]\n",
    "file = \"hpcontology_cineca.owl\"\n",
    "onto.save(file)"
   ],
   "metadata": {
    "collapsed": false,
    "ExecuteTime": {
     "end_time": "2023-06-29T19:27:31.270898500Z",
     "start_time": "2023-06-29T19:27:31.228902600Z"
    }
   }
  },
  {
   "cell_type": "code",
   "execution_count": 118,
   "outputs": [],
   "source": [
    "# Instance of Node for dimmX_temp metric\n",
    "# First row - df_dimm_list[0]\n",
    "onto = get_ontology(\"https://example.org/hpcontology_cineca.owl#\")\n",
    "with onto:\n",
    "    class DualInlineMemoryModule(Feature): pass\n",
    "    class hasTemperatureValue(Feature >> int): pass\n",
    "    individual = Server(int(df_dimm_list[0]['node'].iloc[0]))\n",
    "    dimm = DualInlineMemoryModule(0)\n",
    "    individual.featureOfInterest.append(dimm)\n",
    "    temperature = Temperature()\n",
    "    dimm.observedProperty.append(temperature)\n",
    "    value = int(df_dimm_list[0]['value'].iloc[0])\n",
    "    temperature.hasTemperatureValue.append(value)\n",
    "    now = df_dimm_list[0]['timestamp'].iloc[0].to_pydatetime()\n",
    "    temperature.generatedAtTime.append(now)\n",
    "    temperature.label.append(\"Measured in °C, and has integer values\")\n",
    "    temperature.comment = [\"Sampled every 20s (per node)\"]\n",
    "file = \"hpcontology_cineca.owl\"\n",
    "onto.save(file)"
   ],
   "metadata": {
    "collapsed": false,
    "ExecuteTime": {
     "end_time": "2023-06-29T19:27:31.820039Z",
     "start_time": "2023-06-29T19:27:31.773024600Z"
    }
   }
  },
  {
   "cell_type": "code",
   "execution_count": 119,
   "outputs": [],
   "source": [
    "# Instance of Node for fanX_Y metric\n",
    "# First row - df_module_fan[0]\n",
    "onto = get_ontology(\"https://example.org/hpcontology_cineca.owl#\")\n",
    "with onto:\n",
    "    class DriveShelfFanModule(Feature): pass\n",
    "    class Fan(Feature): pass\n",
    "    class hasSpeedValue(Feature >> int): pass\n",
    "    individual = Server(int(df_module_fan[0]['node'].iloc[0]))\n",
    "    driveFanModule = DriveShelfFanModule(0)\n",
    "    fan = Fan(0)\n",
    "    individual.featureOfInterest.append(driveFanModule)\n",
    "    driveFanModule.featureOfInterest.append(fan)\n",
    "    speed = Speed()\n",
    "    fan.observedProperty.append(speed)\n",
    "    value = float(df_module_fan[0]['value'].iloc[0])\n",
    "    speed.hasSpeedValue.append(value)\n",
    "    now = df_module_fan[0]['timestamp'].iloc[0].to_pydatetime()\n",
    "    speed.generatedAtTime.append(now)\n",
    "    speed.label.append(\"Measured in RPM, and has integer values\")\n",
    "    speed.comment = [\"Sampled every 20s (per node)\"]\n",
    "file = \"hpcontology_cineca.owl\"\n",
    "onto.save(file)"
   ],
   "metadata": {
    "collapsed": false,
    "ExecuteTime": {
     "end_time": "2023-06-29T19:27:32.372859600Z",
     "start_time": "2023-06-29T19:27:32.321861400Z"
    }
   }
  },
  {
   "cell_type": "code",
   "execution_count": 120,
   "outputs": [],
   "source": [
    "# Instance of Node for fan_disk_power metric\n",
    "onto = get_ontology(\"https://example.org/hpcontology_cineca.owl#\")\n",
    "with onto:\n",
    "    class DiskFan(Feature): pass\n",
    "    class hasPowerValue(Feature >> int): pass\n",
    "    individual = Server(int(df_fan_disk_power['node'].iloc[0]))\n",
    "    # diskFan = DiskFan(0)\n",
    "    individual.featureOfInterest.append(DiskFan)\n",
    "    power = Power()\n",
    "    DiskFan.observedProperty.append(power)\n",
    "    value = int(df_fan_disk_power['value'].iloc[0])\n",
    "    power.hasPowerValue.append(value)\n",
    "    now = df_fan_disk_power['timestamp'].iloc[0].to_pydatetime()\n",
    "    power.generatedAtTime.append(now)\n",
    "    power.label.append(\"Measured in Watts, and has integer values\")\n",
    "    power.comment = [\"Sampled every 20s (per node)\"]\n",
    "file = \"hpcontology_cineca.owl\"\n",
    "onto.save(file)"
   ],
   "metadata": {
    "collapsed": false,
    "ExecuteTime": {
     "end_time": "2023-06-29T19:27:32.877852300Z",
     "start_time": "2023-06-29T19:27:32.835871900Z"
    }
   }
  },
  {
   "cell_type": "code",
   "execution_count": 121,
   "outputs": [],
   "source": [
    "# Instance of Node for gpuX_core_temp metric\n",
    "onto = get_ontology(\"https://example.org/hpcontology_cineca.owl#\")\n",
    "with onto:\n",
    "    class GPUCore(Feature): pass\n",
    "    class hasTemperatureValue(Feature >> int): pass\n",
    "    individual = Server(int(df_gpu_core_temp[0]['node'].iloc[0]))\n",
    "    gpu = GPU(0)\n",
    "    # gpuCore = GPUCore()\n",
    "    individual.featureOfInterest.append(gpu)\n",
    "    gpu.featureOfInterest.append(GPUCore)\n",
    "    temperature = Temperature()\n",
    "    GPUCore.observedProperty.append(temperature)\n",
    "    value = int(df_gpu_core_temp[0]['value'].iloc[0])\n",
    "    temperature.hasTemperatureValue.append(value)\n",
    "    now = df_gpu_core_temp[0]['timestamp'].iloc[0].to_pydatetime()\n",
    "    temperature.generatedAtTime.append(now)\n",
    "    temperature.label.append(\"Measured in °C, and has integer values\")\n",
    "    temperature.comment = [\"Sampled every 20s (per node)\"]\n",
    "file = \"hpcontology_cineca.owl\"\n",
    "onto.save(file)"
   ],
   "metadata": {
    "collapsed": false,
    "ExecuteTime": {
     "end_time": "2023-06-29T19:27:33.400417400Z",
     "start_time": "2023-06-29T19:27:33.374419800Z"
    }
   }
  },
  {
   "cell_type": "code",
   "execution_count": 122,
   "outputs": [],
   "source": [
    "# Instance of Node for gpuX_mem_temp metric\n",
    "onto = get_ontology(\"https://example.org/hpcontology_cineca.owl#\")\n",
    "with onto:\n",
    "    class GPUMemory(Feature): pass\n",
    "    class hasTemperatureValue(Feature >> int): pass\n",
    "    individual = Server(int(df_gpu_mem_temp[0]['node'].iloc[0]))\n",
    "    gpu = GPU(0)\n",
    "    # gpuMemory = GPUMemory()\n",
    "    individual.featureOfInterest.append(gpu)\n",
    "    gpu.featureOfInterest.append(GPUMemory)\n",
    "    temperature = Temperature()\n",
    "    GPUMemory.observedProperty.append(temperature)\n",
    "    value = int(df_gpu_mem_temp[0]['value'].iloc[0])\n",
    "    temperature.hasTemperatureValue.append(value)\n",
    "    now = df_gpu_mem_temp[0]['timestamp'].iloc[0].to_pydatetime()\n",
    "    temperature.generatedAtTime.append(now)\n",
    "    temperature.label.append(\"Measured in °C, and has integer values\")\n",
    "    temperature.comment = [\"Sampled every 20s (per node)\"]\n",
    "file = \"hpcontology_cineca.owl\"\n",
    "onto.save(file)"
   ],
   "metadata": {
    "collapsed": false,
    "ExecuteTime": {
     "end_time": "2023-06-29T19:27:33.889280100Z",
     "start_time": "2023-06-29T19:27:33.866282800Z"
    }
   }
  },
  {
   "cell_type": "code",
   "execution_count": 123,
   "outputs": [],
   "source": [
    "# Instance of Node for gv100cardX metric\n",
    "onto = get_ontology(\"https://example.org/hpcontology_cineca.owl#\")\n",
    "with onto:\n",
    "    class GraphicsCard(Feature): pass\n",
    "    class hasValue(Feature >> int): pass\n",
    "    individual = Server(int(df_gv100card[0]['node'].iloc[0]))\n",
    "    # graphicsCard = GraphicsCard()\n",
    "    nvidia = NVIDIAQuadroGV100Card()\n",
    "    individual.featureOfInterest.append(GraphicsCard)\n",
    "    GraphicsCard.observedProperty.append(nvidia)\n",
    "    value = int(df_gv100card[0]['value'].iloc[0])\n",
    "    nvidia.hasValue.append(value)\n",
    "    now = df_gv100card[0]['timestamp'].iloc[0].to_pydatetime()\n",
    "    nvidia.generatedAtTime.append(now)\n",
    "    nvidia.label.append(\"Measurement is unspecified, but has integer values\")\n",
    "    nvidia.comment = [\"Sampled every 20s (per node)\"]\n",
    "file = \"hpcontology_cineca.owl\"\n",
    "onto.save(file)"
   ],
   "metadata": {
    "collapsed": false,
    "ExecuteTime": {
     "end_time": "2023-06-29T19:27:34.528140500Z",
     "start_time": "2023-06-29T19:27:34.466144100Z"
    }
   }
  },
  {
   "cell_type": "code",
   "execution_count": 124,
   "outputs": [],
   "source": [
    "# Instance of Node for pX_coreY_temp metric\n",
    "onto = get_ontology(\"https://example.org/hpcontology_cineca.owl#\")\n",
    "with onto:\n",
    "    class CPUSocket(Feature): pass\n",
    "    class CPUSocketCore(Feature): pass\n",
    "    class hasTemperatureValue(Feature >> int): pass\n",
    "    individual = Server(int(df_cpu_core_temp[0]['node'].iloc[0]))\n",
    "    cpuSocket = CPUSocket(0)\n",
    "    cpuSocketCore = CPUSocketCore(0)\n",
    "    individual.featureOfInterest.append(cpuSocket)\n",
    "    cpuSocket.observedProperty.append(cpuSocketCore)\n",
    "    temperature = Temperature()\n",
    "    cpuSocketCore.observedProperty.append(temperature)\n",
    "    value = int(df_cpu_core_temp[0]['value'].iloc[0])\n",
    "    temperature.hasTemperatureValue.append(value)\n",
    "    now = df_cpu_core_temp[0]['timestamp'].iloc[0].to_pydatetime()\n",
    "    temperature.generatedAtTime.append(now)\n",
    "    temperature.label.append(\"Measured in °C, and has integer values\")\n",
    "    temperature.comment = [\"Sampled every 20s (per node)\"]\n",
    "file = \"hpcontology_cineca.owl\"\n",
    "onto.save(file)"
   ],
   "metadata": {
    "collapsed": false,
    "ExecuteTime": {
     "end_time": "2023-06-29T19:27:34.946796100Z",
     "start_time": "2023-06-29T19:27:34.919814600Z"
    }
   }
  },
  {
   "cell_type": "code",
   "execution_count": 125,
   "outputs": [],
   "source": [
    "# Instance of Node for pX_io_power metric\n",
    "onto = get_ontology(\"https://example.org/hpcontology_cineca.owl#\")\n",
    "with onto:\n",
    "    class CPUSocket(Feature): pass\n",
    "    class InputOutputSubsystem(Feature): pass\n",
    "    class hasPowerValue(Feature >> int): pass\n",
    "    individual = Server(int(df_io_power[0]['node'].iloc[0]))\n",
    "    cpuSocket = CPUSocket()\n",
    "    individual.featureOfInterest.append(cpuSocket)\n",
    "    cpuSocket.featureOfInterest.append(InputOutputSubsystem)\n",
    "    power = Power()\n",
    "    InputOutputSubsystem.observedProperty.append(power)\n",
    "    value = int(df_io_power[0]['value'].iloc[0])\n",
    "    power.hasPowerValue.append(value)\n",
    "    now = df_io_power[0]['timestamp'].iloc[0].to_pydatetime()\n",
    "    power.generatedAtTime.append(now)\n",
    "    power.label.append(\"Measured in Watts, and has integer values\")\n",
    "    power.comment = [\"Sampled every 20s (per node)\"]\n",
    "file = \"hpcontology_cineca.owl\"\n",
    "onto.save(file)"
   ],
   "metadata": {
    "collapsed": false,
    "ExecuteTime": {
     "end_time": "2023-06-29T19:27:35.258800300Z",
     "start_time": "2023-06-29T19:27:35.220787100Z"
    }
   }
  },
  {
   "cell_type": "code",
   "execution_count": 126,
   "outputs": [],
   "source": [
    "# Instance of Node for pX_mem_power metric\n",
    "onto = get_ontology(\"https://example.org/hpcontology_cineca.owl#\")\n",
    "with onto:\n",
    "    class CPUSocket(Feature): pass\n",
    "    class MemorySubsystem(Feature): pass\n",
    "    class hasPowerValue(Feature >> int): pass\n",
    "    individual = Server(int(df_mem_power[0]['node'].iloc[0]))\n",
    "    cpuSocket = CPUSocket()\n",
    "    individual.featureOfInterest.append(cpuSocket)\n",
    "    cpuSocket.featureOfInterest.append(MemorySubsystem)\n",
    "    power = Power()\n",
    "    MemorySubsystem.observedProperty.append(power)\n",
    "    value = int(df_mem_power[0]['value'].iloc[0])\n",
    "    power.hasPowerValue.append(value)\n",
    "    now = df_mem_power[0]['timestamp'].iloc[0].to_pydatetime()\n",
    "    power.generatedAtTime.append(now)\n",
    "    power.label.append(\"Measured in Watts, and has integer values\")\n",
    "    power.comment = [\"Sampled every 20s (per node)\"]\n",
    "file = \"hpcontology_cineca.owl\"\n",
    "onto.save(file)"
   ],
   "metadata": {
    "collapsed": false,
    "ExecuteTime": {
     "end_time": "2023-06-29T19:27:35.738151400Z",
     "start_time": "2023-06-29T19:27:35.689148200Z"
    }
   }
  },
  {
   "cell_type": "code",
   "execution_count": 127,
   "outputs": [],
   "source": [
    "# Instance of Node for pX_power metric\n",
    "onto = get_ontology(\"https://example.org/hpcontology_cineca.owl#\")\n",
    "with onto:\n",
    "    class CPUSocket(Feature): pass\n",
    "    class hasPowerValue(Feature >> int): pass\n",
    "    individual = Server(int(df_cpu_power[0]['node'].iloc[0]))\n",
    "    cpuSocket = CPUSocket()\n",
    "    individual.featureOfInterest.append(cpuSocket)\n",
    "    power = Power()\n",
    "    cpuSocket.observedProperty.append(power)\n",
    "    value = int(df_cpu_power[0]['value'].iloc[0])\n",
    "    power.hasPowerValue.append(value)\n",
    "    now = df_cpu_power[0]['timestamp'].iloc[0].to_pydatetime()\n",
    "    power.generatedAtTime.append(now)\n",
    "    power.label.append(\"Measured in Watts, and has integer values\")\n",
    "    power.comment = [\"Sampled every 20s (per node)\"]\n",
    "file = \"hpcontology_cineca.owl\"\n",
    "onto.save(file)"
   ],
   "metadata": {
    "collapsed": false,
    "ExecuteTime": {
     "end_time": "2023-06-29T19:27:35.943182500Z",
     "start_time": "2023-06-29T19:27:35.894132500Z"
    }
   }
  },
  {
   "cell_type": "code",
   "execution_count": 128,
   "outputs": [],
   "source": [
    "# Instance of Node for pX_vdd_temp metric\n",
    "onto = get_ontology(\"https://example.org/hpcontology_cineca.owl#\")\n",
    "with onto:\n",
    "    class CPUSocket(Feature): pass\n",
    "    class VoltageRegulator(Feature): pass\n",
    "    class hasTemperatureValue(Feature >> int): pass\n",
    "    individual = Server(int(df_cpu_vdd_temp[0]['node'].iloc[0]))\n",
    "    cpuSocket = CPUSocket()\n",
    "    individual.featureOfInterest.append(cpuSocket)\n",
    "    cpuSocket.featureOfInterest.append(VoltageRegulator)\n",
    "    temperature = Temperature()\n",
    "    VoltageRegulator.observedProperty.append(temperature)\n",
    "    value = int(df_cpu_vdd_temp[0]['value'].iloc[0])\n",
    "    temperature.hasTemperatureValue.append(value)\n",
    "    now = df_cpu_vdd_temp[0]['timestamp'].iloc[0].to_pydatetime()\n",
    "    temperature.generatedAtTime.append(now)\n",
    "    temperature.label.append(\"Measured in °C, and has integer values\")\n",
    "    temperature.comment = [\"Sampled every 20s (per node)\"]\n",
    "file = \"hpcontology_cineca.owl\"\n",
    "onto.save(file)"
   ],
   "metadata": {
    "collapsed": false,
    "ExecuteTime": {
     "end_time": "2023-06-29T19:27:36.256921400Z",
     "start_time": "2023-06-29T19:27:36.217925100Z"
    }
   }
  },
  {
   "cell_type": "code",
   "execution_count": 129,
   "outputs": [],
   "source": [
    "# Instance of Node for pcie metric\n",
    "onto = get_ontology(\"https://example.org/hpcontology_cineca.owl#\")\n",
    "with onto:\n",
    "    class CPUSocket(Feature): pass\n",
    "    class PCIExpressSlot(Feature): pass\n",
    "    class hasTemperatureValue(Feature >> float): pass\n",
    "    individual = Server(int(df_pcie['node'].iloc[0]))\n",
    "    individual.featureOfInterest.append(PCIExpressSlot)\n",
    "    temperature = Temperature()\n",
    "    PCIExpressSlot.observedProperty.append(temperature)\n",
    "    value = float(df_pcie['value'].iloc[0])\n",
    "    temperature.hasTemperatureValue.append(value)\n",
    "    now = df_pcie['timestamp'].iloc[0].to_pydatetime()\n",
    "    temperature.generatedAtTime.append(now)\n",
    "    temperature.label.append(\"Measured in °C, and has floating-point values\")\n",
    "    temperature.comment = [\"Sampled every 20s (per node)\"]\n",
    "file = \"hpcontology_cineca.owl\"\n",
    "onto.save(file)"
   ],
   "metadata": {
    "collapsed": false,
    "ExecuteTime": {
     "end_time": "2023-06-29T19:27:36.639908300Z",
     "start_time": "2023-06-29T19:27:36.611853900Z"
    }
   }
  },
  {
   "cell_type": "code",
   "execution_count": 130,
   "outputs": [],
   "source": [
    "# Instance of Node for psX_input_power metric\n",
    "onto = get_ontology(\"https://example.org/hpcontology_cineca.owl#\")\n",
    "with onto:\n",
    "    class PowerSupplyInput(Feature): pass\n",
    "    class hasPowerValue(Feature >> int): pass\n",
    "    individual = Server(int(df_power_supply_input_power[0]['node'].iloc[0]))\n",
    "    psInput = PowerSupplyInput(0)\n",
    "    individual.featureOfInterest.append(psInput)\n",
    "    power = Power()\n",
    "    psInput.observedProperty.append(power)\n",
    "    value = int(df_power_supply_input_power[0]['value'].iloc[0])\n",
    "    power.hasPowerValue.append(value)\n",
    "    now = df_power_supply_input_power[0]['timestamp'].iloc[0].to_pydatetime()\n",
    "    power.generatedAtTime.append(now)\n",
    "    power.label.append(\"Measured in Watts, and has integer values\")\n",
    "    power.comment = [\"Sampled every 20s (per node)\"]\n",
    "file = \"hpcontology_cineca.owl\"\n",
    "onto.save(file)"
   ],
   "metadata": {
    "collapsed": false,
    "ExecuteTime": {
     "end_time": "2023-06-29T19:27:37.084578900Z",
     "start_time": "2023-06-29T19:27:37.060581900Z"
    }
   }
  },
  {
   "cell_type": "code",
   "execution_count": 131,
   "outputs": [],
   "source": [
    "# Instance of Node for psX_input_voltag metric\n",
    "onto = get_ontology(\"https://example.org/hpcontology_cineca.owl#\")\n",
    "with onto:\n",
    "    class PowerSupplyInput(Feature): pass\n",
    "    class hasVoltageValue(Feature >> int): pass\n",
    "    individual = Server(int(df_power_supply_input_voltage[0]['node'].iloc[0]))\n",
    "    psInput = PowerSupplyInput(0)\n",
    "    individual.featureOfInterest.append(psInput)\n",
    "    voltage = Voltage()\n",
    "    psInput.observedProperty.append(voltage)\n",
    "    value = int(df_power_supply_input_voltage[0]['value'].iloc[0])\n",
    "    voltage.hasVoltageValue.append(value)\n",
    "    now = df_power_supply_input_voltage[0]['timestamp'].iloc[0].to_pydatetime()\n",
    "    voltage.generatedAtTime.append(now)\n",
    "    voltage.label.append(\"Measured in Volts, and has integer values\")\n",
    "    voltage.comment = [\"Sampled every 20s (per node)\"]\n",
    "file = \"hpcontology_cineca.owl\"\n",
    "onto.save(file)"
   ],
   "metadata": {
    "collapsed": false,
    "ExecuteTime": {
     "end_time": "2023-06-29T19:27:37.449438300Z",
     "start_time": "2023-06-29T19:27:37.404443400Z"
    }
   }
  },
  {
   "cell_type": "code",
   "execution_count": 132,
   "outputs": [],
   "source": [
    "# Instance of Node for psX_output_curre metric\n",
    "onto = get_ontology(\"https://example.org/hpcontology_cineca.owl#\")\n",
    "with onto:\n",
    "    class PowerSupplyOutput(Feature): pass\n",
    "    class hasCurrentValue(Feature >> int): pass\n",
    "    individual = Server(int(df_power_supply_output_current[0]['node'].iloc[0]))\n",
    "    psOutput = PowerSupplyOutput(0)\n",
    "    individual.featureOfInterest.append(psOutput)\n",
    "    current = Current()\n",
    "    psOutput.observedProperty.append(current)\n",
    "    value = int(df_power_supply_output_current[0]['value'].iloc[0])\n",
    "    current.hasCurrentValue.append(value)\n",
    "    now = df_power_supply_output_current[0]['timestamp'].iloc[0].to_pydatetime()\n",
    "    current.generatedAtTime.append(now)\n",
    "    current.label.append(\"Measured in Amperes, and has integer values\")\n",
    "    current.comment = [\"Sampled every 20s (per node)\"]\n",
    "file = \"hpcontology_cineca.owl\"\n",
    "onto.save(file)"
   ],
   "metadata": {
    "collapsed": false,
    "ExecuteTime": {
     "end_time": "2023-06-29T19:27:37.797928400Z",
     "start_time": "2023-06-29T19:27:37.765897600Z"
    }
   }
  },
  {
   "cell_type": "code",
   "execution_count": 133,
   "outputs": [],
   "source": [
    "# Instance of Node for psX_output_volta metric\n",
    "onto = get_ontology(\"https://example.org/hpcontology_cineca.owl#\")\n",
    "with onto:\n",
    "    class PowerSupplyOutput(Feature): pass\n",
    "    class hasVoltageValue(Feature >> float): pass\n",
    "    individual = Server(int(df_power_supply_output_voltage[0]['node'].iloc[0]))\n",
    "    psOutput = PowerSupplyOutput(0)\n",
    "    individual.featureOfInterest.append(psOutput)\n",
    "    voltage = Voltage()\n",
    "    psOutput.observedProperty.append(voltage)\n",
    "    value = float(df_power_supply_output_voltage[0]['value'].iloc[0])\n",
    "    voltage.hasVoltageValue.append(value)\n",
    "    now = df_power_supply_output_voltage[0]['timestamp'].iloc[0].to_pydatetime()\n",
    "    voltage.generatedAtTime.append(now)\n",
    "    voltage.label.append(\"Measured in Volts, and has floating-point values\")\n",
    "    voltage.comment = [\"Sampled every 20s (per node)\"]\n",
    "file = \"hpcontology_cineca.owl\"\n",
    "onto.save(file)"
   ],
   "metadata": {
    "collapsed": false,
    "ExecuteTime": {
     "end_time": "2023-06-29T19:27:38.140869600Z",
     "start_time": "2023-06-29T19:27:38.104873800Z"
    }
   }
  },
  {
   "cell_type": "code",
   "execution_count": 134,
   "outputs": [],
   "source": [
    "# Instance of Node for psX_input_power metric\n",
    "onto = get_ontology(\"https://example.org/hpcontology_cineca.owl#\")\n",
    "with onto:\n",
    "    class hasPowerValue(Feature >> int): pass\n",
    "    individual = Server(int(df_total_power['node'].iloc[0]))\n",
    "    power = Power()\n",
    "    individual.observedProperty.append(power)\n",
    "    value = int(df_total_power['value'].iloc[0])\n",
    "    current.hasValue.append(value)\n",
    "    power.hasPowerValue.append(value)\n",
    "    now = df_total_power['timestamp'].iloc[0].to_pydatetime()\n",
    "    power.generatedAtTime.append(now)\n",
    "    power.label.append(\"Measured in Watts, and has integer values\")\n",
    "    power.comment = [\"Sampled every 20s (per node)\"]\n",
    "file = \"hpcontology_cineca.owl\"\n",
    "onto.save(file)"
   ],
   "metadata": {
    "collapsed": false,
    "ExecuteTime": {
     "end_time": "2023-06-29T19:27:39.188428100Z",
     "start_time": "2023-06-29T19:27:39.148443300Z"
    }
   }
  },
  {
   "cell_type": "code",
   "execution_count": null,
   "outputs": [],
   "source": [],
   "metadata": {
    "collapsed": false
   }
  },
  {
   "cell_type": "code",
   "execution_count": null,
   "outputs": [],
   "source": [
    "# # For saving the ongoing ontology into a turtle format\n",
    "# file = \"testing.ttl\"\n",
    "# onto.save(file, format=\"turtle\")"
   ],
   "metadata": {
    "collapsed": false
   }
  },
  {
   "cell_type": "code",
   "execution_count": 114,
   "outputs": [],
   "source": [
    "# Destroying ontology\n",
    "onto = get_ontology(\"https://example.org/hpcontology_cineca.owl#\")\n",
    "onto.destroy()\n",
    "file = \"hpcontology_cineca.owl\"\n",
    "os.remove(file)"
   ],
   "metadata": {
    "collapsed": false,
    "ExecuteTime": {
     "end_time": "2023-06-29T19:27:23.276941700Z",
     "start_time": "2023-06-29T19:27:23.260933200Z"
    }
   }
  },
  {
   "cell_type": "code",
   "execution_count": null,
   "outputs": [],
   "source": [],
   "metadata": {
    "collapsed": false
   }
  }
 ],
 "metadata": {
  "kernelspec": {
   "display_name": "Python 3",
   "language": "python",
   "name": "python3"
  },
  "language_info": {
   "codemirror_mode": {
    "name": "ipython",
    "version": 2
   },
   "file_extension": ".py",
   "mimetype": "text/x-python",
   "name": "python",
   "nbconvert_exporter": "python",
   "pygments_lexer": "ipython2",
   "version": "2.7.6"
  }
 },
 "nbformat": 4,
 "nbformat_minor": 0
}
