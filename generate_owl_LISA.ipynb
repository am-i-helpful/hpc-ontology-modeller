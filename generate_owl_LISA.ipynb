{
 "cells": [
  {
   "cell_type": "code",
   "execution_count": 2,
   "metadata": {
    "collapsed": true,
    "ExecuteTime": {
     "end_time": "2023-06-22T14:38:53.688896200Z",
     "start_time": "2023-06-22T14:38:52.337936700Z"
    }
   },
   "outputs": [
    {
     "name": "stderr",
     "output_type": "stream",
     "text": [
      "* Owlready2 * Warning: optimized Cython parser module 'owlready2_optimized' is not available, defaulting to slower Python implementation\n"
     ]
    }
   ],
   "source": [
    "import pandas as pd\n",
    "import pyarrow.parquet as pq\n",
    "from owlready2 import *\n",
    "import urllib.parse\n",
    "# import os\n",
    "import glob"
   ]
  },
  {
   "cell_type": "code",
   "execution_count": 1,
   "outputs": [],
   "source": [
    "# number of rows to be considered from the parquet file, as all rows can't be considered because of the huge size of the HPC workload\n",
    "number_of_rows = 10\n",
    "# Source of the data - data shared by SURF team\n",
    "base_dir = \"C:/GDrive-Shekhar/Literature Study/Xiaoyu-Shared/SURF/\""
   ],
   "metadata": {
    "collapsed": false,
    "ExecuteTime": {
     "end_time": "2023-06-22T14:38:48.825286600Z",
     "start_time": "2023-06-22T14:38:48.802483700Z"
    }
   }
  },
  {
   "cell_type": "code",
   "execution_count": 3,
   "outputs": [
    {
     "data": {
      "text/plain": "         id           timestamp    node  node_time_seconds  node_load15  \\\n0  23499351 2022-08-01 23:00:30  r12n20       1.659390e+09         3.25   \n1  24679115 2022-08-01 23:00:30   r10n1       1.659390e+09        16.04   \n2  24681081 2022-08-01 23:00:30   r10n2       1.659390e+09        16.06   \n3  24683047 2022-08-01 23:00:30   r10n3       1.659390e+09        10.05   \n4  24685012 2022-08-01 23:00:30   r10n4       1.659390e+09        16.07   \n5  24686977 2022-08-01 23:00:30   r10n5       1.659390e+09        10.72   \n6  24688943 2022-08-01 23:00:30   r10n6       1.659390e+09         0.00   \n7  24690909 2022-08-01 23:00:30   r10n7       1.659390e+09        15.00   \n8  24692875 2022-08-01 23:00:30   r10n8       1.659390e+09         0.43   \n9  24694841 2022-08-01 23:00:30   r10n9       1.659390e+09        15.00   \n\n   surfsara_power_usage   up  node_netstat_Tcp_OutSegs  \\\n0                 180.0  1.0              8.229440e+09   \n1                 136.0  1.0              4.435130e+09   \n2                 184.0  1.0              1.333230e+10   \n3                 160.0  1.0              7.411810e+09   \n4                 152.0  1.0              3.827420e+09   \n5                 176.0  1.0              4.021590e+09   \n6                  36.0  1.0              3.613030e+09   \n7                 180.0  1.0              3.387300e+09   \n8                  52.0  1.0              3.366060e+09   \n9                 164.0  1.0              1.221040e+10   \n\n   node_netstat_Tcp_InErrs  node_context_switches_total  ...  \\\n0                      0.0                 2.358430e+10  ...   \n1                      0.0                 4.385200e+10  ...   \n2                      0.0                 6.533210e+10  ...   \n3                      0.0                 3.398420e+10  ...   \n4                      0.0                 5.320250e+10  ...   \n5                      0.0                 8.578120e+09  ...   \n6                      0.0                 5.877550e+10  ...   \n7                      0.0                 7.489570e+10  ...   \n8                      8.0                 2.973960e+10  ...   \n9                      0.0                 4.480610e+10  ...   \n\n   nvidia_gpu_duty_cycle-mean  nvidia_gpu_duty_cycle-max  \\\n0                         NaN                        NaN   \n1                         NaN                        NaN   \n2                         NaN                        NaN   \n3                         NaN                        NaN   \n4                         NaN                        NaN   \n5                         NaN                        NaN   \n6                         NaN                        NaN   \n7                         NaN                        NaN   \n8                         NaN                        NaN   \n9                         NaN                        NaN   \n\n   node_network_transmit_packets_total-sum  node_udp_queues-sum  \\\n0                             8.304228e+09                  0.0   \n1                             4.443808e+09                  0.0   \n2                             1.335061e+10                  0.0   \n3                             7.423408e+09                  0.0   \n4                             3.835132e+09                  0.0   \n5                             4.028638e+09                  0.0   \n6                             3.620775e+09                  0.0   \n7                             3.395939e+09                  0.0   \n8                             3.375636e+09                  0.0   \n9                             1.223325e+10                  0.0   \n\n   node_network_receive_bytes_total-sum  \\\n0                          3.904484e+13   \n1                          1.629571e+13   \n2                          6.950092e+13   \n3                          4.388573e+13   \n4                          1.695007e+13   \n5                          1.673817e+13   \n6                          1.694239e+13   \n7                          1.406663e+13   \n8                          1.158139e+13   \n9                          5.315886e+13   \n\n   node_network_receive_packets_total-sum  \\\n0                            8.240601e+09   \n1                            4.457970e+09   \n2                            1.388512e+10   \n3                            7.515447e+09   \n4                            3.949527e+09   \n5                            4.262980e+09   \n6                            3.839891e+09   \n7                            3.583665e+09   \n8                            3.305960e+09   \n9                            1.245858e+10   \n\n   node_network_receive_multicast_total-sum  node_disk_io_now-sum  \\\n0                                       1.0                   0.0   \n1                                       2.0                   0.0   \n2                                       2.0                   0.0   \n3                                       2.0                   0.0   \n4                                       2.0                   0.0   \n5                                       2.0                   0.0   \n6                                       2.0                   0.0   \n7                                       2.0                   0.0   \n8                                       2.0                   0.0   \n9                                       2.0                   0.0   \n\n   node_rapl_package_joules_total-sum  node_network_receive_drop_total-sum  \n0                            95773.30                                  0.0  \n1                           246806.22                                  0.0  \n2                           215142.45                                  0.0  \n3                           180487.40                                  0.0  \n4                           143603.09                                  0.0  \n5                           155978.26                                  0.0  \n6                           226003.76                                  0.0  \n7                            42950.88                                  0.0  \n8                           237935.83                                  0.0  \n9                           258069.61                                  0.0  \n\n[10 rows x 69 columns]",
      "text/html": "<div>\n<style scoped>\n    .dataframe tbody tr th:only-of-type {\n        vertical-align: middle;\n    }\n\n    .dataframe tbody tr th {\n        vertical-align: top;\n    }\n\n    .dataframe thead th {\n        text-align: right;\n    }\n</style>\n<table border=\"1\" class=\"dataframe\">\n  <thead>\n    <tr style=\"text-align: right;\">\n      <th></th>\n      <th>id</th>\n      <th>timestamp</th>\n      <th>node</th>\n      <th>node_time_seconds</th>\n      <th>node_load15</th>\n      <th>surfsara_power_usage</th>\n      <th>up</th>\n      <th>node_netstat_Tcp_OutSegs</th>\n      <th>node_netstat_Tcp_InErrs</th>\n      <th>node_context_switches_total</th>\n      <th>...</th>\n      <th>nvidia_gpu_duty_cycle-mean</th>\n      <th>nvidia_gpu_duty_cycle-max</th>\n      <th>node_network_transmit_packets_total-sum</th>\n      <th>node_udp_queues-sum</th>\n      <th>node_network_receive_bytes_total-sum</th>\n      <th>node_network_receive_packets_total-sum</th>\n      <th>node_network_receive_multicast_total-sum</th>\n      <th>node_disk_io_now-sum</th>\n      <th>node_rapl_package_joules_total-sum</th>\n      <th>node_network_receive_drop_total-sum</th>\n    </tr>\n  </thead>\n  <tbody>\n    <tr>\n      <th>0</th>\n      <td>23499351</td>\n      <td>2022-08-01 23:00:30</td>\n      <td>r12n20</td>\n      <td>1.659390e+09</td>\n      <td>3.25</td>\n      <td>180.0</td>\n      <td>1.0</td>\n      <td>8.229440e+09</td>\n      <td>0.0</td>\n      <td>2.358430e+10</td>\n      <td>...</td>\n      <td>NaN</td>\n      <td>NaN</td>\n      <td>8.304228e+09</td>\n      <td>0.0</td>\n      <td>3.904484e+13</td>\n      <td>8.240601e+09</td>\n      <td>1.0</td>\n      <td>0.0</td>\n      <td>95773.30</td>\n      <td>0.0</td>\n    </tr>\n    <tr>\n      <th>1</th>\n      <td>24679115</td>\n      <td>2022-08-01 23:00:30</td>\n      <td>r10n1</td>\n      <td>1.659390e+09</td>\n      <td>16.04</td>\n      <td>136.0</td>\n      <td>1.0</td>\n      <td>4.435130e+09</td>\n      <td>0.0</td>\n      <td>4.385200e+10</td>\n      <td>...</td>\n      <td>NaN</td>\n      <td>NaN</td>\n      <td>4.443808e+09</td>\n      <td>0.0</td>\n      <td>1.629571e+13</td>\n      <td>4.457970e+09</td>\n      <td>2.0</td>\n      <td>0.0</td>\n      <td>246806.22</td>\n      <td>0.0</td>\n    </tr>\n    <tr>\n      <th>2</th>\n      <td>24681081</td>\n      <td>2022-08-01 23:00:30</td>\n      <td>r10n2</td>\n      <td>1.659390e+09</td>\n      <td>16.06</td>\n      <td>184.0</td>\n      <td>1.0</td>\n      <td>1.333230e+10</td>\n      <td>0.0</td>\n      <td>6.533210e+10</td>\n      <td>...</td>\n      <td>NaN</td>\n      <td>NaN</td>\n      <td>1.335061e+10</td>\n      <td>0.0</td>\n      <td>6.950092e+13</td>\n      <td>1.388512e+10</td>\n      <td>2.0</td>\n      <td>0.0</td>\n      <td>215142.45</td>\n      <td>0.0</td>\n    </tr>\n    <tr>\n      <th>3</th>\n      <td>24683047</td>\n      <td>2022-08-01 23:00:30</td>\n      <td>r10n3</td>\n      <td>1.659390e+09</td>\n      <td>10.05</td>\n      <td>160.0</td>\n      <td>1.0</td>\n      <td>7.411810e+09</td>\n      <td>0.0</td>\n      <td>3.398420e+10</td>\n      <td>...</td>\n      <td>NaN</td>\n      <td>NaN</td>\n      <td>7.423408e+09</td>\n      <td>0.0</td>\n      <td>4.388573e+13</td>\n      <td>7.515447e+09</td>\n      <td>2.0</td>\n      <td>0.0</td>\n      <td>180487.40</td>\n      <td>0.0</td>\n    </tr>\n    <tr>\n      <th>4</th>\n      <td>24685012</td>\n      <td>2022-08-01 23:00:30</td>\n      <td>r10n4</td>\n      <td>1.659390e+09</td>\n      <td>16.07</td>\n      <td>152.0</td>\n      <td>1.0</td>\n      <td>3.827420e+09</td>\n      <td>0.0</td>\n      <td>5.320250e+10</td>\n      <td>...</td>\n      <td>NaN</td>\n      <td>NaN</td>\n      <td>3.835132e+09</td>\n      <td>0.0</td>\n      <td>1.695007e+13</td>\n      <td>3.949527e+09</td>\n      <td>2.0</td>\n      <td>0.0</td>\n      <td>143603.09</td>\n      <td>0.0</td>\n    </tr>\n    <tr>\n      <th>5</th>\n      <td>24686977</td>\n      <td>2022-08-01 23:00:30</td>\n      <td>r10n5</td>\n      <td>1.659390e+09</td>\n      <td>10.72</td>\n      <td>176.0</td>\n      <td>1.0</td>\n      <td>4.021590e+09</td>\n      <td>0.0</td>\n      <td>8.578120e+09</td>\n      <td>...</td>\n      <td>NaN</td>\n      <td>NaN</td>\n      <td>4.028638e+09</td>\n      <td>0.0</td>\n      <td>1.673817e+13</td>\n      <td>4.262980e+09</td>\n      <td>2.0</td>\n      <td>0.0</td>\n      <td>155978.26</td>\n      <td>0.0</td>\n    </tr>\n    <tr>\n      <th>6</th>\n      <td>24688943</td>\n      <td>2022-08-01 23:00:30</td>\n      <td>r10n6</td>\n      <td>1.659390e+09</td>\n      <td>0.00</td>\n      <td>36.0</td>\n      <td>1.0</td>\n      <td>3.613030e+09</td>\n      <td>0.0</td>\n      <td>5.877550e+10</td>\n      <td>...</td>\n      <td>NaN</td>\n      <td>NaN</td>\n      <td>3.620775e+09</td>\n      <td>0.0</td>\n      <td>1.694239e+13</td>\n      <td>3.839891e+09</td>\n      <td>2.0</td>\n      <td>0.0</td>\n      <td>226003.76</td>\n      <td>0.0</td>\n    </tr>\n    <tr>\n      <th>7</th>\n      <td>24690909</td>\n      <td>2022-08-01 23:00:30</td>\n      <td>r10n7</td>\n      <td>1.659390e+09</td>\n      <td>15.00</td>\n      <td>180.0</td>\n      <td>1.0</td>\n      <td>3.387300e+09</td>\n      <td>0.0</td>\n      <td>7.489570e+10</td>\n      <td>...</td>\n      <td>NaN</td>\n      <td>NaN</td>\n      <td>3.395939e+09</td>\n      <td>0.0</td>\n      <td>1.406663e+13</td>\n      <td>3.583665e+09</td>\n      <td>2.0</td>\n      <td>0.0</td>\n      <td>42950.88</td>\n      <td>0.0</td>\n    </tr>\n    <tr>\n      <th>8</th>\n      <td>24692875</td>\n      <td>2022-08-01 23:00:30</td>\n      <td>r10n8</td>\n      <td>1.659390e+09</td>\n      <td>0.43</td>\n      <td>52.0</td>\n      <td>1.0</td>\n      <td>3.366060e+09</td>\n      <td>8.0</td>\n      <td>2.973960e+10</td>\n      <td>...</td>\n      <td>NaN</td>\n      <td>NaN</td>\n      <td>3.375636e+09</td>\n      <td>0.0</td>\n      <td>1.158139e+13</td>\n      <td>3.305960e+09</td>\n      <td>2.0</td>\n      <td>0.0</td>\n      <td>237935.83</td>\n      <td>0.0</td>\n    </tr>\n    <tr>\n      <th>9</th>\n      <td>24694841</td>\n      <td>2022-08-01 23:00:30</td>\n      <td>r10n9</td>\n      <td>1.659390e+09</td>\n      <td>15.00</td>\n      <td>164.0</td>\n      <td>1.0</td>\n      <td>1.221040e+10</td>\n      <td>0.0</td>\n      <td>4.480610e+10</td>\n      <td>...</td>\n      <td>NaN</td>\n      <td>NaN</td>\n      <td>1.223325e+10</td>\n      <td>0.0</td>\n      <td>5.315886e+13</td>\n      <td>1.245858e+10</td>\n      <td>2.0</td>\n      <td>0.0</td>\n      <td>258069.61</td>\n      <td>0.0</td>\n    </tr>\n  </tbody>\n</table>\n<p>10 rows × 69 columns</p>\n</div>"
     },
     "execution_count": 3,
     "metadata": {},
     "output_type": "execute_result"
    }
   ],
   "source": [
    "# SURF dataset\n",
    "file_surf = base_dir + \"prometheus_part-00000-d7afaa0c-ea3a-45f1-9f01-d2d20bffbb9c-c000.snappy.parquet\"\n",
    "df_surf = pq.read_table(source=file_surf).to_pandas()\n",
    "# df_gv100card0 = df_gv100card0.sort_values('node').head(number_of_rows)\n",
    "df_surf.head(number_of_rows)"
   ],
   "metadata": {
    "collapsed": false,
    "ExecuteTime": {
     "end_time": "2023-06-22T14:38:58.101479500Z",
     "start_time": "2023-06-22T14:38:57.366162200Z"
    }
   }
  },
  {
   "cell_type": "code",
   "execution_count": null,
   "outputs": [],
   "source": [],
   "metadata": {
    "collapsed": false
   }
  }
 ],
 "metadata": {
  "kernelspec": {
   "display_name": "Python 3",
   "language": "python",
   "name": "python3"
  },
  "language_info": {
   "codemirror_mode": {
    "name": "ipython",
    "version": 2
   },
   "file_extension": ".py",
   "mimetype": "text/x-python",
   "name": "python",
   "nbconvert_exporter": "python",
   "pygments_lexer": "ipython2",
   "version": "2.7.6"
  }
 },
 "nbformat": 4,
 "nbformat_minor": 0
}
